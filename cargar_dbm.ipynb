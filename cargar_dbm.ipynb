{
 "cells": [
  {
   "cell_type": "code",
   "execution_count": 6,
   "metadata": {},
   "outputs": [],
   "source": [
    "#!pip install neo4j\n",
    "import neo4j\n",
    "from neo4j import GraphDatabase\n",
    "import pandas as pd"
   ]
  },
  {
   "cell_type": "markdown",
   "metadata": {},
   "source": [
    "### Nos conectamos a la base de datos"
   ]
  },
  {
   "cell_type": "code",
   "execution_count": 7,
   "metadata": {},
   "outputs": [
    {
     "name": "stdout",
     "output_type": "stream",
     "text": [
      "Connection to Neo4j established successfully!\n"
     ]
    }
   ],
   "source": [
    "URI = \"neo4j+s://06ae1fa1.databases.neo4j.io\"\n",
    "AUTH = (\"neo4j\",\"QjwVk3kN-OI5bTt-fg6LZy-F4LMHCpL9HFxuvSuq-OE\")\n",
    "\n",
    "driver = GraphDatabase.driver(URI, auth=AUTH)\n",
    "with driver.session() as session:\n",
    "    try:\n",
    "        session.run(\"RETURN 1\")\n",
    "        print(\"Connection to Neo4j established successfully!\")\n",
    "    except Exception as e:\n",
    "        print(f\"Failed to connect to Neo4j: {e}\")"
   ]
  },
  {
   "cell_type": "markdown",
   "metadata": {},
   "source": [
    "### Cargamos los datos"
   ]
  },
  {
   "cell_type": "code",
   "execution_count": 16,
   "metadata": {},
   "outputs": [
    {
     "name": "stdout",
     "output_type": "stream",
     "text": [
      "<class 'pandas.core.frame.DataFrame'>\n",
      "RangeIndex: 28236 entries, 0 to 28235\n",
      "Data columns (total 3 columns):\n",
      " #   Column   Non-Null Count  Dtype\n",
      "---  ------   --------------  -----\n",
      " 0   id_from  28236 non-null  int32\n",
      " 1   id_to    28236 non-null  int32\n",
      " 2   weight   28236 non-null  int32\n",
      "dtypes: int32(3)\n",
      "memory usage: 331.0 KB\n"
     ]
    }
   ],
   "source": [
    "df = pd.read_csv('data_airport/out.opsahl-usairport', sep=' ', skiprows=2, names=['id_from', 'id_to', 'weight'])\n",
    "df = df.astype({'id_from': int, 'id_to': int, 'weight': int})\n",
    "df.info()"
   ]
  },
  {
   "cell_type": "code",
   "execution_count": 22,
   "metadata": {},
   "outputs": [],
   "source": [
    "unique_ids = pd.DataFrame(pd.concat([df['id_from'], df['id_to']]).unique(), columns=['id'])"
   ]
  },
  {
   "cell_type": "code",
   "execution_count": 19,
   "metadata": {},
   "outputs": [],
   "source": [
    "# Definir la función para cargar los nodos en Neo4j\n",
    "def load_nodes(session, nodes):\n",
    "    query = \"\"\"\n",
    "    UNWIND $nodes AS row\n",
    "    MERGE (n:Node {id: row.id})\n",
    "    \"\"\"\n",
    "    session.run(query, nodes=nodes)\n",
    "\n",
    "# Definir la función para cargar las relaciones en Neo4j\n",
    "def load_relationships(session, relationships):\n",
    "    query = \"\"\"\n",
    "    UNWIND $edges AS row\n",
    "    MATCH (n1:Node {id: row.id_from})\n",
    "    MATCH (n2:Node {id: row.id_to})\n",
    "    MERGE (n1)-[r:RELATED {weight: row.weight}]->(n2)\n",
    "    \"\"\"\n",
    "    session.run(query, edges=relationships)\n"
   ]
  },
  {
   "cell_type": "code",
   "execution_count": 23,
   "metadata": {},
   "outputs": [],
   "source": [
    "with driver.session() as session:\n",
    "    # Cargar nodos en Neo4j\n",
    "    load_nodes(session, unique_ids.to_dict('records'))\n",
    "    \n",
    "    # Cargar relaciones en Neo4j\n",
    "    load_relationships(session, df.to_dict('records'))"
   ]
  },
  {
   "cell_type": "code",
   "execution_count": 24,
   "metadata": {},
   "outputs": [],
   "source": [
    "driver.close()"
   ]
  },
  {
   "cell_type": "code",
   "execution_count": null,
   "metadata": {},
   "outputs": [],
   "source": []
  }
 ],
 "metadata": {
  "kernelspec": {
   "display_name": "Python 3",
   "language": "python",
   "name": "python3"
  },
  "language_info": {
   "codemirror_mode": {
    "name": "ipython",
    "version": 3
   },
   "file_extension": ".py",
   "mimetype": "text/x-python",
   "name": "python",
   "nbconvert_exporter": "python",
   "pygments_lexer": "ipython3",
   "version": "3.11.9"
  }
 },
 "nbformat": 4,
 "nbformat_minor": 2
}
