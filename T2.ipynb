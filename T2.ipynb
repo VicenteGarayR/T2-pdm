{
  "cells": [
    {
      "cell_type": "code",
      "execution_count": null,
      "metadata": {
        "colab": {
          "base_uri": "https://localhost:8080/"
        },
        "id": "ZdIx0XW5kahb",
        "outputId": "07a76de0-2c23-4e16-cf22-69e4d92bc523"
      },
      "outputs": [
        {
          "output_type": "stream",
          "name": "stdout",
          "text": [
            "Collecting pyspark\n",
            "  Downloading pyspark-3.5.1.tar.gz (317.0 MB)\n",
            "\u001b[2K     \u001b[90m━━━━━━━━━━━━━━━━━━━━━━━━━━━━━━━━━━━━━━━━\u001b[0m \u001b[32m317.0/317.0 MB\u001b[0m \u001b[31m2.8 MB/s\u001b[0m eta \u001b[36m0:00:00\u001b[0m\n",
            "\u001b[?25h  Preparing metadata (setup.py) ... \u001b[?25l\u001b[?25hdone\n",
            "Requirement already satisfied: py4j==0.10.9.7 in /usr/local/lib/python3.10/dist-packages (from pyspark) (0.10.9.7)\n",
            "Building wheels for collected packages: pyspark\n",
            "  Building wheel for pyspark (setup.py) ... \u001b[?25l\u001b[?25hdone\n",
            "  Created wheel for pyspark: filename=pyspark-3.5.1-py2.py3-none-any.whl size=317488491 sha256=b0354400cc67f63e6bc73724721912438a9702dac178a6f5d95f3c82b8a065db\n",
            "  Stored in directory: /root/.cache/pip/wheels/80/1d/60/2c256ed38dddce2fdd93be545214a63e02fbd8d74fb0b7f3a6\n",
            "Successfully built pyspark\n",
            "Installing collected packages: pyspark\n",
            "Successfully installed pyspark-3.5.1\n",
            "Collecting neo4j\n",
            "  Downloading neo4j-5.20.0.tar.gz (202 kB)\n",
            "\u001b[2K     \u001b[90m━━━━━━━━━━━━━━━━━━━━━━━━━━━━━━━━━━━━━━━━\u001b[0m \u001b[32m203.0/203.0 kB\u001b[0m \u001b[31m4.5 MB/s\u001b[0m eta \u001b[36m0:00:00\u001b[0m\n",
            "\u001b[?25h  Installing build dependencies ... \u001b[?25l\u001b[?25hdone\n",
            "  Getting requirements to build wheel ... \u001b[?25l\u001b[?25hdone\n",
            "  Installing backend dependencies ... \u001b[?25l\u001b[?25hdone\n",
            "  Preparing metadata (pyproject.toml) ... \u001b[?25l\u001b[?25hdone\n",
            "Requirement already satisfied: pytz in /usr/local/lib/python3.10/dist-packages (from neo4j) (2023.4)\n",
            "Building wheels for collected packages: neo4j\n",
            "  Building wheel for neo4j (pyproject.toml) ... \u001b[?25l\u001b[?25hdone\n",
            "  Created wheel for neo4j: filename=neo4j-5.20.0-py3-none-any.whl size=280771 sha256=7107d0d4f1a941066c8bc4b67001ec6697e91377de20d1e5744a45807f5969fb\n",
            "  Stored in directory: /root/.cache/pip/wheels/cb/12/66/764554d079caad4b9a11a02cfc0d200dd876d12935b9cf7e64\n",
            "Successfully built neo4j\n",
            "Installing collected packages: neo4j\n",
            "Successfully installed neo4j-5.20.0\n",
            "Requirement already satisfied: pandas in /usr/local/lib/python3.10/dist-packages (2.0.3)\n",
            "Requirement already satisfied: python-dateutil>=2.8.2 in /usr/local/lib/python3.10/dist-packages (from pandas) (2.8.2)\n",
            "Requirement already satisfied: pytz>=2020.1 in /usr/local/lib/python3.10/dist-packages (from pandas) (2023.4)\n",
            "Requirement already satisfied: tzdata>=2022.1 in /usr/local/lib/python3.10/dist-packages (from pandas) (2024.1)\n",
            "Requirement already satisfied: numpy>=1.21.0 in /usr/local/lib/python3.10/dist-packages (from pandas) (1.25.2)\n",
            "Requirement already satisfied: six>=1.5 in /usr/local/lib/python3.10/dist-packages (from python-dateutil>=2.8.2->pandas) (1.16.0)\n"
          ]
        }
      ],
      "source": [
        "!pip install pyspark\n",
        "!pip install neo4j\n",
        "!pip install pandas\n",
        "\n",
        "import pandas as pd"
      ]
    },
    {
      "cell_type": "code",
      "execution_count": null,
      "metadata": {
        "id": "442cTyxfkahc"
      },
      "outputs": [],
      "source": [
        "from pyspark.sql import SparkSession\n",
        "\n",
        "spark = SparkSession.builder \\\n",
        "    .appName(\"Ejemplo de PySpark en Jupyter Notebook\") \\\n",
        "    .getOrCreate()\n",
        "\n",
        "# Obtener el SparkContext\n",
        "sc = spark.sparkContext"
      ]
    },
    {
      "cell_type": "code",
      "execution_count": null,
      "metadata": {
        "id": "Pdifbdcdkahe"
      },
      "outputs": [],
      "source": [
        "graph = [(1,11,2),(1,11,3),(2,11,3),(3,11,2),(3,11,4),(4,11,1),(4,11,2),(4,11,3),(4,12,5),(5,12,1),(5,12,2),(5,12,6)]\n",
        "#graph = [(2,11,2), (1,11,2), (2,11,1)]"
      ]
    },
    {
      "cell_type": "code",
      "execution_count": null,
      "metadata": {
        "id": "CYSakHMFkahe"
      },
      "outputs": [],
      "source": [
        "B = 2"
      ]
    },
    {
      "cell_type": "code",
      "execution_count": null,
      "metadata": {
        "id": "AwZLiuHTkahe"
      },
      "outputs": [],
      "source": [
        "def hash(x):\n",
        "    return x % B"
      ]
    },
    {
      "cell_type": "code",
      "execution_count": null,
      "metadata": {
        "id": "ESduWr_1kahf"
      },
      "outputs": [],
      "source": [
        "def map_pdm(x, arista, y):\n",
        "\n",
        "    x_hash = hash(x)\n",
        "    y_hash = hash(y)\n",
        "\n",
        "    l = []\n",
        "    for i in range(B):\n",
        "        l.append(((x_hash, y_hash, i), (x, arista, y)))\n",
        "        l.append(((i, x_hash, y_hash), (x, arista, y)))\n",
        "        l.append(((y_hash, i, x_hash), (x, arista, y)))\n",
        "\n",
        "    return set(l)"
      ]
    },
    {
      "cell_type": "code",
      "execution_count": null,
      "metadata": {
        "id": "AYjf9CJ-kahf"
      },
      "outputs": [],
      "source": [
        "datos_rdd = sc.parallelize(graph)"
      ]
    },
    {
      "cell_type": "markdown",
      "metadata": {
        "id": "OadrVPqXk7W2"
      },
      "source": [
        "### Pasarlo por map"
      ]
    },
    {
      "cell_type": "code",
      "execution_count": null,
      "metadata": {
        "colab": {
          "base_uri": "https://localhost:8080/"
        },
        "id": "6O-XpnXMkahg",
        "outputId": "58d65b74-6847-4ad9-dbb6-22616c9b4183"
      },
      "outputs": [
        {
          "output_type": "execute_result",
          "data": {
            "text/plain": [
              "[((1, 0, 0), (1, 11, 2)), ((0, 1, 1), (1, 11, 2))]"
            ]
          },
          "metadata": {},
          "execution_count": 8
        }
      ],
      "source": [
        "rdd_map = datos_rdd.flatMap(lambda dato: map_pdm(*dato))\n",
        "\n",
        "rdd_map.collect()[0:2]"
      ]
    },
    {
      "cell_type": "markdown",
      "metadata": {
        "id": "DHPcloZ1lCCq"
      },
      "source": [
        "### Reduce\n"
      ]
    },
    {
      "cell_type": "code",
      "execution_count": null,
      "metadata": {
        "colab": {
          "base_uri": "https://localhost:8080/"
        },
        "id": "ifArrQxelBRp",
        "outputId": "5908832f-d281-4345-fe53-8328c3745e61"
      },
      "outputs": [
        {
          "output_type": "execute_result",
          "data": {
            "text/plain": [
              "((1, 0, 0),\n",
              " [(1, 11, 2),\n",
              "  (2, 11, 3),\n",
              "  (3, 11, 2),\n",
              "  (3, 11, 4),\n",
              "  (4, 11, 1),\n",
              "  (4, 11, 2),\n",
              "  (4, 11, 3),\n",
              "  (4, 12, 5),\n",
              "  (5, 12, 2),\n",
              "  (5, 12, 6)])"
            ]
          },
          "metadata": {},
          "execution_count": 9
        }
      ],
      "source": [
        "rdd_reduce = rdd_map.groupByKey().mapValues(list)\n",
        "rdd_reduce.collect()[0]"
      ]
    },
    {
      "cell_type": "code",
      "execution_count": null,
      "metadata": {
        "id": "Fs5YcvBaoyFn"
      },
      "outputs": [],
      "source": [
        "def triangulo(nodos):\n",
        "\n",
        "  triangulos_detectados = []\n",
        "  for i in range(len(nodos)):\n",
        "    nodo_actual = nodos[i]\n",
        "\n",
        "    for j in range(i + 1, len(nodos)):\n",
        "\n",
        "      nodo_sig = nodos[j]\n",
        "\n",
        "      for k in range(j + 1, len(nodos)):\n",
        "        nodo_sub_sig = nodos[k]\n",
        "\n",
        "        if nodo_actual[2] == nodo_sig[0] and nodo_sig[2] == nodo_sub_sig[0] and nodo_actual[0] == nodo_sub_sig[2]:\n",
        "          triangulos_detectados.append((nodo_actual[0], nodo_sig[0], nodo_sub_sig[0]))\n",
        "\n",
        "        elif nodo_actual[2] == nodo_sub_sig[0] and nodo_sig[0] == nodo_sub_sig[2] and nodo_actual[0] == nodo_sig[2]:\n",
        "          triangulos_detectados.append((nodo_actual[0], nodo_sig[0], nodo_sub_sig[0]))\n",
        "\n",
        "  return triangulos_detectados"
      ]
    },
    {
      "cell_type": "code",
      "execution_count": null,
      "metadata": {
        "colab": {
          "base_uri": "https://localhost:8080/"
        },
        "id": "IkHzwXRZ1JR2",
        "outputId": "f288e99b-e692-462a-de58-0cc75d23ec35"
      },
      "outputs": [
        {
          "output_type": "execute_result",
          "data": {
            "text/plain": [
              "[((1, 0, 0), [(2, 3, 4)]),\n",
              " ((0, 1, 0), [(2, 3, 4)]),\n",
              " ((0, 0, 1), [(2, 3, 4)]),\n",
              " ((1, 1, 1), []),\n",
              " ((0, 1, 1), [(1, 3, 4)]),\n",
              " ((1, 0, 1), [(1, 3, 4)]),\n",
              " ((1, 1, 0), [(1, 3, 4)]),\n",
              " ((0, 0, 0), [])]"
            ]
          },
          "metadata": {},
          "execution_count": 11
        }
      ],
      "source": [
        "final = rdd_reduce.map(lambda nodos: (nodos[0], triangulo(nodos[1])))\n",
        "final.collect()"
      ]
    },
    {
      "cell_type": "code",
      "execution_count": null,
      "metadata": {
        "id": "sVOExZiG1wup"
      },
      "outputs": [],
      "source": [
        "dicc = {}\n",
        "for i in final.collect():\n",
        "    dicc[i[0]] = i[1]"
      ]
    },
    {
      "cell_type": "code",
      "execution_count": null,
      "metadata": {
        "colab": {
          "base_uri": "https://localhost:8080/"
        },
        "id": "VrtUNzf55KJq",
        "outputId": "89dca4e0-3a26-40a4-b789-97a817add06c"
      },
      "outputs": [
        {
          "output_type": "execute_result",
          "data": {
            "text/plain": [
              "{(1, 0, 0): [(2, 3, 4)],\n",
              " (0, 1, 0): [(2, 3, 4)],\n",
              " (0, 0, 1): [(2, 3, 4)],\n",
              " (1, 1, 1): [],\n",
              " (0, 1, 1): [(1, 3, 4)],\n",
              " (1, 0, 1): [(1, 3, 4)],\n",
              " (1, 1, 0): [(1, 3, 4)],\n",
              " (0, 0, 0): []}"
            ]
          },
          "metadata": {},
          "execution_count": 13
        }
      ],
      "source": [
        "dicc"
      ]
    },
    {
      "cell_type": "code",
      "execution_count": null,
      "metadata": {
        "id": "o7ZxiIYE5XqO",
        "colab": {
          "base_uri": "https://localhost:8080/"
        },
        "outputId": "cd1e0a8b-4c91-471f-dbd2-f32d0ce26e87"
      },
      "outputs": [
        {
          "output_type": "stream",
          "name": "stdout",
          "text": [
            "Connection to Neo4j established successfully!\n"
          ]
        }
      ],
      "source": [
        "from neo4j import GraphDatabase\n",
        "\n",
        "URI = \"neo4j+s://06ae1fa1.databases.neo4j.io\"\n",
        "AUTH = (\"neo4j\",\"QjwVk3kN-OI5bTt-fg6LZy-F4LMHCpL9HFxuvSuq-OE\")\n",
        "\n",
        "driver = GraphDatabase.driver(URI, auth=AUTH)\n",
        "with driver.session() as session:\n",
        "    try:\n",
        "        session.run(\"RETURN 1\")\n",
        "        print(\"Connection to Neo4j established successfully!\")\n",
        "    except Exception as e:\n",
        "        print(f\"Failed to connect to Neo4j: {e}\")"
      ]
    },
    {
      "cell_type": "code",
      "execution_count": null,
      "metadata": {
        "id": "DFSNVqIFGxwx"
      },
      "outputs": [],
      "source": [
        "cites = pd.read_csv('cora.cites',sep='\\t',header=None,names=['target','source'])\n",
        "\n",
        "column_names = [\"paper_id\"] + [f\"word_{idx}\" for idx in range(1433)] + [\"subject\"]\n",
        "papers = pd.read_csv(\n",
        "    'cora.content', sep=\"\\t\", names=column_names,\n",
        ")\n",
        "subjects = papers[[\"paper_id\",\"subject\"]]"
      ]
    },
    {
      "cell_type": "code",
      "execution_count": null,
      "metadata": {
        "id": "FqdhYbC3Gxwx"
      },
      "outputs": [],
      "source": [
        "def load_papers(session, subjects):\n",
        "    query = \"\"\"\n",
        "    UNWIND $nodes AS row\n",
        "    MERGE (p:Paper {id: row.paper_id})\n",
        "    SET p.subject = row.subject;\n",
        "    \"\"\"\n",
        "    session.run(query, nodes=subjects)\n",
        "\n",
        "def load_relationships(session, cites):\n",
        "    query = \"\"\"\n",
        "    UNWIND $edges AS row\n",
        "    MATCH (p1:Paper {id: row.source})\n",
        "    MATCH (p2:Paper {id: row.target})\n",
        "    MERGE (p1)-[:CITES]->(p2);\n",
        "    \"\"\"\n",
        "    session.run(query, edges=cites)"
      ]
    },
    {
      "cell_type": "code",
      "execution_count": null,
      "metadata": {
        "colab": {
          "base_uri": "https://localhost:8080/"
        },
        "id": "Od7ATUpCGxwx",
        "outputId": "a1261949-9ee3-47a0-af24-457a053a74d3"
      },
      "outputs": [
        {
          "output_type": "stream",
          "name": "stdout",
          "text": [
            "<Record n=<Node element_id='4:e857ac08-a8c1-496d-af81-4d5858b1b0f8:0' labels=frozenset({'Paper'}) properties={'subject': 'Neural_Networks', 'id': 31336}>>\n",
            "<Record n=<Node element_id='4:e857ac08-a8c1-496d-af81-4d5858b1b0f8:1' labels=frozenset({'Paper'}) properties={'subject': 'Rule_Learning', 'id': 1061127}>>\n",
            "<Record n=<Node element_id='4:e857ac08-a8c1-496d-af81-4d5858b1b0f8:2' labels=frozenset({'Paper'}) properties={'subject': 'Reinforcement_Learning', 'id': 1106406}>>\n",
            "<Record n=<Node element_id='4:e857ac08-a8c1-496d-af81-4d5858b1b0f8:3' labels=frozenset({'Paper'}) properties={'subject': 'Reinforcement_Learning', 'id': 13195}>>\n",
            "<Record n=<Node element_id='4:e857ac08-a8c1-496d-af81-4d5858b1b0f8:4' labels=frozenset({'Paper'}) properties={'subject': 'Probabilistic_Methods', 'id': 37879}>>\n"
          ]
        }
      ],
      "source": [
        "with driver.session() as session:\n",
        "    load_papers(session,subjects.to_dict('records'))\n",
        "    load_relationships(session,cites.to_dict('records'))\n",
        "    query = \"MATCH (n) RETURN n LIMIT 5\"\n",
        "    result = session.run(query)\n",
        "    for record in result:\n",
        "        print(record)"
      ]
    },
    {
      "cell_type": "markdown",
      "metadata": {
        "id": "18dT_x1GGxwx"
      },
      "source": [
        "### Función a cambiar"
      ]
    },
    {
      "cell_type": "code",
      "execution_count": null,
      "metadata": {
        "id": "WWLi43whGxwz"
      },
      "outputs": [],
      "source": [
        "def get_data_from_neo4j():\n",
        "    with driver.session() as session:\n",
        "        result = session.run(\"MATCH (n) RETURN n.name AS name, n.age AS age\")\n",
        "        return [{\"id\": record[\"name\"], \"age\": record[\"age\"]} for record in result]\n",
        "\n",
        "# Obtiene los datos de Neo4j\n",
        "neo4j_data = get_data_from_neo4j()\n",
        "\n",
        "# Convierte los datos en un RDD de PySpark\n",
        "rdd = spark.sparkContext.parallelize(neo4j_data)"
      ]
    }
  ],
  "metadata": {
    "colab": {
      "provenance": []
    },
    "kernelspec": {
      "display_name": "Python 3",
      "language": "python",
      "name": "python3"
    },
    "language_info": {
      "codemirror_mode": {
        "name": "ipython",
        "version": 3
      },
      "file_extension": ".py",
      "mimetype": "text/x-python",
      "name": "python",
      "nbconvert_exporter": "python",
      "pygments_lexer": "ipython3",
      "version": "3.11.9"
    }
  },
  "nbformat": 4,
  "nbformat_minor": 0
}