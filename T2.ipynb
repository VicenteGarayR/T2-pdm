{
  "cells": [
    {
      "cell_type": "code",
      "execution_count": 2,
      "metadata": {
        "colab": {
          "base_uri": "https://localhost:8080/"
        },
        "id": "ZdIx0XW5kahb",
        "outputId": "0dc5451c-5e50-4083-bcb9-25bfaf3121a3"
      },
      "outputs": [
        {
          "name": "stdout",
          "output_type": "stream",
          "text": [
            "Requirement already satisfied: pyspark in /usr/local/lib/python3.10/dist-packages (3.5.1)\n",
            "Requirement already satisfied: py4j==0.10.9.7 in /usr/local/lib/python3.10/dist-packages (from pyspark) (0.10.9.7)\n",
            "Requirement already satisfied: neo4j in /usr/local/lib/python3.10/dist-packages (5.20.0)\n",
            "Requirement already satisfied: pytz in /usr/local/lib/python3.10/dist-packages (from neo4j) (2023.4)\n"
          ]
        }
      ],
      "source": [
        "!pip install pyspark\n",
        "!pip install neo4j"
      ]
    },
    {
      "cell_type": "code",
      "execution_count": 3,
      "metadata": {
        "id": "442cTyxfkahc"
      },
      "outputs": [],
      "source": [
        "from pyspark.sql import SparkSession\n",
        "\n",
        "spark = SparkSession.builder \\\n",
        "    .appName(\"Ejemplo de PySpark en Jupyter Notebook\") \\\n",
        "    .getOrCreate()\n",
        "\n",
        "# Obtener el SparkContext\n",
        "sc = spark.sparkContext"
      ]
    },
    {
      "cell_type": "code",
      "execution_count": 4,
      "metadata": {
        "id": "Pdifbdcdkahe"
      },
      "outputs": [],
      "source": [
        "graph = [(1,11,2),(1,11,3),(2,11,3),(3,11,2),(3,11,4),(4,11,1),(4,11,2),(4,11,3),(4,12,5),(5,12,1),(5,12,2),(5,12,6)]\n",
        "#graph = [(2,11,2), (1,11,2), (2,11,1)]"
      ]
    },
    {
      "cell_type": "code",
      "execution_count": 5,
      "metadata": {
        "id": "CYSakHMFkahe"
      },
      "outputs": [],
      "source": [
        "B = 2"
      ]
    },
    {
      "cell_type": "code",
      "execution_count": 6,
      "metadata": {
        "id": "AwZLiuHTkahe"
      },
      "outputs": [],
      "source": [
        "def hash(x):\n",
        "    return x % B"
      ]
    },
    {
      "cell_type": "code",
      "execution_count": 7,
      "metadata": {
        "id": "ESduWr_1kahf"
      },
      "outputs": [],
      "source": [
        "def map_pdm(x, arista, y):\n",
        "\n",
        "    x_hash = hash(x)\n",
        "    y_hash = hash(y)\n",
        "\n",
        "    l = []\n",
        "    for i in range(B):\n",
        "        l.append(((x_hash, y_hash, i), (x, arista, y)))\n",
        "        l.append(((i, x_hash, y_hash), (x, arista, y)))\n",
        "        l.append(((y_hash, i, x_hash), (x, arista, y)))\n",
        "\n",
        "    return set(l)"
      ]
    },
    {
      "cell_type": "code",
      "execution_count": 8,
      "metadata": {
        "id": "AYjf9CJ-kahf"
      },
      "outputs": [],
      "source": [
        "datos_rdd = sc.parallelize(graph)"
      ]
    },
    {
      "cell_type": "markdown",
      "metadata": {
        "id": "OadrVPqXk7W2"
      },
      "source": [
        "### Pasarlo por map"
      ]
    },
    {
      "cell_type": "code",
      "execution_count": 9,
      "metadata": {
        "colab": {
          "base_uri": "https://localhost:8080/"
        },
        "id": "6O-XpnXMkahg",
        "outputId": "9bce8e95-980d-43b4-b499-359de910c99b"
      },
      "outputs": [
        {
          "data": {
            "text/plain": [
              "[((1, 0, 0), (1, 11, 2)), ((0, 1, 1), (1, 11, 2))]"
            ]
          },
          "execution_count": 9,
          "metadata": {},
          "output_type": "execute_result"
        }
      ],
      "source": [
        "rdd_map = datos_rdd.flatMap(lambda dato: map_pdm(*dato))\n",
        "\n",
        "rdd_map.collect()[0:2]"
      ]
    },
    {
      "cell_type": "markdown",
      "metadata": {
        "id": "DHPcloZ1lCCq"
      },
      "source": [
        "### Reduce\n"
      ]
    },
    {
      "cell_type": "code",
      "execution_count": 20,
      "metadata": {
        "colab": {
          "base_uri": "https://localhost:8080/"
        },
        "id": "ifArrQxelBRp",
        "outputId": "e036546c-61fe-43bc-f8a6-854958bcc3cc"
      },
      "outputs": [
        {
          "data": {
            "text/plain": [
              "((1, 0, 0),\n",
              " [(1, 11, 2),\n",
              "  (2, 11, 3),\n",
              "  (3, 11, 2),\n",
              "  (3, 11, 4),\n",
              "  (4, 11, 1),\n",
              "  (4, 11, 2),\n",
              "  (4, 11, 3),\n",
              "  (4, 12, 5),\n",
              "  (5, 12, 2),\n",
              "  (5, 12, 6)])"
            ]
          },
          "execution_count": 20,
          "metadata": {},
          "output_type": "execute_result"
        }
      ],
      "source": [
        "rdd_reduce = rdd_map.groupByKey().mapValues(list)\n",
        "rdd_reduce.collect()[0]"
      ]
    },
    {
      "cell_type": "code",
      "execution_count": 28,
      "metadata": {
        "id": "Fs5YcvBaoyFn"
      },
      "outputs": [],
      "source": [
        "def triangulo(nodos):\n",
        "\n",
        "  triangulos_detectados = []\n",
        "  for i in range(len(nodos)):\n",
        "    nodo_actual = nodos[i]\n",
        "\n",
        "    for j in range(i, len(nodos)):\n",
        "      if j + 1 >= len(nodos):\n",
        "        break\n",
        "      nodo_sig = nodos[j]\n",
        "      nodo_sub_sig = nodos[j + 1]\n",
        "\n",
        "\n",
        "      if nodo_actual[2] == nodo_sig[0] and nodo_sig[2] == nodo_sub_sig[0] and nodo_actual[0] == nodo_sub_sig[2]:\n",
        "        triangulos_detectados.append((nodo_actual[0], nodo_sig[0], nodo_sub_sig[0]))\n",
        "\n",
        "      elif nodo_actual[2] == nodo_sub_sig[0] and nodo_sig[0] == nodo_sub_sig[2] and nodo_actual[0] == nodo_sig[2]:\n",
        "        triangulos_detectados.append((nodo_actual[0], nodo_sig[0], nodo_sub_sig[0]))\n",
        "\n",
        "  return triangulos_detectados"
      ]
    },
    {
      "cell_type": "code",
      "execution_count": 44,
      "metadata": {
        "colab": {
          "base_uri": "https://localhost:8080/"
        },
        "id": "IkHzwXRZ1JR2",
        "outputId": "91ea5083-94d2-4bfd-c03b-1509ed49247a"
      },
      "outputs": [
        {
          "data": {
            "text/plain": [
              "[((1, 0, 0), []),\n",
              " ((0, 1, 0), []),\n",
              " ((0, 0, 1), []),\n",
              " ((1, 1, 1), []),\n",
              " ((0, 1, 1), [(1, 3, 4)]),\n",
              " ((1, 0, 1), [(1, 3, 4)]),\n",
              " ((1, 1, 0), [(1, 3, 4)]),\n",
              " ((0, 0, 0), [])]"
            ]
          },
          "execution_count": 44,
          "metadata": {},
          "output_type": "execute_result"
        }
      ],
      "source": [
        "final = rdd_reduce.map(lambda nodos: (nodos[0], triangulo(nodos[1])))\n",
        "final.collect()"
      ]
    },
    {
      "cell_type": "code",
      "execution_count": 41,
      "metadata": {
        "id": "sVOExZiG1wup"
      },
      "outputs": [],
      "source": [
        "dicc = {}\n",
        "for i in final.collect():\n",
        "    dicc[i[0]] = i[1]"
      ]
    },
    {
      "cell_type": "code",
      "execution_count": 46,
      "metadata": {
        "colab": {
          "base_uri": "https://localhost:8080/"
        },
        "id": "VrtUNzf55KJq",
        "outputId": "3a316143-8c22-4137-cd7e-eebaf1a339ef"
      },
      "outputs": [
        {
          "data": {
            "text/plain": [
              "{(1, 0, 0): [],\n",
              " (0, 1, 0): [],\n",
              " (0, 0, 1): [],\n",
              " (1, 1, 1): [],\n",
              " (0, 1, 1): [(1, 3, 4)],\n",
              " (1, 0, 1): [(1, 3, 4)],\n",
              " (1, 1, 0): [(1, 3, 4)],\n",
              " (0, 0, 0): []}"
            ]
          },
          "execution_count": 46,
          "metadata": {},
          "output_type": "execute_result"
        }
      ],
      "source": [
        "dicc"
      ]
    },
    {
      "cell_type": "code",
      "execution_count": null,
      "metadata": {
        "id": "o7ZxiIYE5XqO"
      },
      "outputs": [],
      "source": []
    }
  ],
  "metadata": {
    "colab": {
      "provenance": []
    },
    "kernelspec": {
      "display_name": "Python 3",
      "language": "python",
      "name": "python3"
    },
    "language_info": {
      "codemirror_mode": {
        "name": "ipython",
        "version": 3
      },
      "file_extension": ".py",
      "mimetype": "text/x-python",
      "name": "python",
      "nbconvert_exporter": "python",
      "pygments_lexer": "ipython3",
      "version": "3.11.9"
    }
  },
  "nbformat": 4,
  "nbformat_minor": 0
}
