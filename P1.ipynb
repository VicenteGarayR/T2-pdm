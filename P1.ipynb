{
 "cells": [
  {
   "cell_type": "code",
   "execution_count": 1,
   "metadata": {},
   "outputs": [],
   "source": [
    "graph = [(1,11,2),(1,11,3),(2,11,3),(3,11,2),(3,11,4),(4,11,1),(4,11,2),(4,11,3),(4,12,5),(5,12,1),(5,12,2),(5,12,6)]"
   ]
  },
  {
   "cell_type": "code",
   "execution_count": 17,
   "metadata": {},
   "outputs": [],
   "source": [
    "B = 2"
   ]
  },
  {
   "cell_type": "code",
   "execution_count": 16,
   "metadata": {},
   "outputs": [],
   "source": [
    "def hash(x):\n",
    "    return x % B"
   ]
  },
  {
   "cell_type": "code",
   "execution_count": 30,
   "metadata": {},
   "outputs": [],
   "source": [
    "def map_pdm(x, y, arista):\n",
    "\n",
    "    x_hash = hash(x)\n",
    "    y_hash = hash(y)\n",
    "\n",
    "    l = []\n",
    "    for i in range(B):\n",
    "        l.append(((x_hash, y_hash, i), (x, arista, y)))\n",
    "        l.append(((i, x_hash, y_hash), (x, arista, y)))\n",
    "        l.append(((y_hash, i, x_hash), (x, arista, y)))\n",
    "\n",
    "    return l"
   ]
  },
  {
   "cell_type": "code",
   "execution_count": 31,
   "metadata": {},
   "outputs": [
    {
     "data": {
      "text/plain": [
       "[((1, 0, 0), (1, 11, 2)),\n",
       " ((0, 1, 0), (1, 11, 2)),\n",
       " ((0, 0, 1), (1, 11, 2)),\n",
       " ((1, 0, 1), (1, 11, 2)),\n",
       " ((1, 1, 0), (1, 11, 2)),\n",
       " ((0, 1, 1), (1, 11, 2))]"
      ]
     },
     "execution_count": 31,
     "metadata": {},
     "output_type": "execute_result"
    }
   ],
   "source": [
    "map_pdm(1, 2, 11)"
   ]
  }
 ],
 "metadata": {
  "kernelspec": {
   "display_name": "Python 3",
   "language": "python",
   "name": "python3"
  },
  "language_info": {
   "codemirror_mode": {
    "name": "ipython",
    "version": 3
   },
   "file_extension": ".py",
   "mimetype": "text/x-python",
   "name": "python",
   "nbconvert_exporter": "python",
   "pygments_lexer": "ipython3",
   "version": "3.11.9"
  }
 },
 "nbformat": 4,
 "nbformat_minor": 2
}
