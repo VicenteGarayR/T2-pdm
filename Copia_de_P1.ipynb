{
  "cells": [
    {
      "cell_type": "code",
      "execution_count": 19,
      "metadata": {
        "id": "ZdIx0XW5kahb",
        "outputId": "e089ed0e-5c7d-4064-abcb-44470e477180",
        "colab": {
          "base_uri": "https://localhost:8080/"
        }
      },
      "outputs": [
        {
          "output_type": "stream",
          "name": "stdout",
          "text": [
            "Requirement already satisfied: pyspark in /usr/local/lib/python3.10/dist-packages (3.5.1)\n",
            "Requirement already satisfied: py4j==0.10.9.7 in /usr/local/lib/python3.10/dist-packages (from pyspark) (0.10.9.7)\n"
          ]
        }
      ],
      "source": [
        "!pip install pyspark"
      ]
    },
    {
      "cell_type": "code",
      "execution_count": 20,
      "metadata": {
        "id": "442cTyxfkahc"
      },
      "outputs": [],
      "source": [
        "from pyspark.sql import SparkSession\n",
        "\n",
        "spark = SparkSession.builder \\\n",
        "    .appName(\"Ejemplo de PySpark en Jupyter Notebook\") \\\n",
        "    .getOrCreate()\n",
        "\n",
        "# Obtener el SparkContext\n",
        "sc = spark.sparkContext"
      ]
    },
    {
      "cell_type": "code",
      "execution_count": 21,
      "metadata": {
        "id": "Pdifbdcdkahe"
      },
      "outputs": [],
      "source": [
        "graph = [(1,11,2),(1,11,3),(2,11,3),(3,11,2),(3,11,4),(4,11,1),(4,11,2),(4,11,3),(4,12,5),(5,12,1),(5,12,2),(5,12,6)]\n",
        "#graph = [(2,11,2), (1,11,2), (2,11,1)]"
      ]
    },
    {
      "cell_type": "code",
      "execution_count": 22,
      "metadata": {
        "id": "CYSakHMFkahe"
      },
      "outputs": [],
      "source": [
        "B = 2"
      ]
    },
    {
      "cell_type": "code",
      "execution_count": 23,
      "metadata": {
        "id": "AwZLiuHTkahe"
      },
      "outputs": [],
      "source": [
        "def hash(x):\n",
        "    return x % B"
      ]
    },
    {
      "cell_type": "code",
      "execution_count": 24,
      "metadata": {
        "id": "ESduWr_1kahf"
      },
      "outputs": [],
      "source": [
        "def map_pdm(x, arista, y):\n",
        "\n",
        "    x_hash = hash(x)\n",
        "    y_hash = hash(y)\n",
        "\n",
        "    l = []\n",
        "    for i in range(B):\n",
        "        l.append(((x_hash, y_hash, i), (x, arista, y)))\n",
        "        l.append(((i, x_hash, y_hash), (x, arista, y)))\n",
        "        l.append(((y_hash, i, x_hash), (x, arista, y)))\n",
        "\n",
        "    return set(l)"
      ]
    },
    {
      "cell_type": "code",
      "execution_count": 25,
      "metadata": {
        "id": "AYjf9CJ-kahf"
      },
      "outputs": [],
      "source": [
        "datos_rdd = sc.parallelize(graph)"
      ]
    },
    {
      "cell_type": "markdown",
      "source": [
        "### Pasarlo por map"
      ],
      "metadata": {
        "id": "OadrVPqXk7W2"
      }
    },
    {
      "cell_type": "code",
      "execution_count": 26,
      "metadata": {
        "id": "6O-XpnXMkahg",
        "outputId": "76ad2552-37dd-4c9e-ba07-e809ee3ad5f9",
        "colab": {
          "base_uri": "https://localhost:8080/"
        }
      },
      "outputs": [
        {
          "output_type": "execute_result",
          "data": {
            "text/plain": [
              "[((1, 0, 0), (1, 11, 2)),\n",
              " ((0, 1, 1), (1, 11, 2)),\n",
              " ((1, 0, 1), (1, 11, 2)),\n",
              " ((0, 1, 0), (1, 11, 2)),\n",
              " ((0, 0, 1), (1, 11, 2)),\n",
              " ((1, 1, 0), (1, 11, 2)),\n",
              " ((1, 1, 1), (1, 11, 3)),\n",
              " ((1, 1, 0), (1, 11, 3)),\n",
              " ((1, 0, 1), (1, 11, 3)),\n",
              " ((0, 1, 1), (1, 11, 3)),\n",
              " ((1, 0, 1), (2, 11, 3)),\n",
              " ((0, 0, 1), (2, 11, 3)),\n",
              " ((0, 1, 0), (2, 11, 3)),\n",
              " ((1, 1, 0), (2, 11, 3)),\n",
              " ((1, 0, 0), (2, 11, 3)),\n",
              " ((0, 1, 1), (2, 11, 3)),\n",
              " ((0, 0, 1), (3, 11, 2)),\n",
              " ((1, 1, 0), (3, 11, 2)),\n",
              " ((1, 0, 0), (3, 11, 2)),\n",
              " ((0, 1, 1), (3, 11, 2)),\n",
              " ((1, 0, 1), (3, 11, 2)),\n",
              " ((0, 1, 0), (3, 11, 2)),\n",
              " ((1, 1, 0), (3, 11, 4)),\n",
              " ((1, 0, 0), (3, 11, 4)),\n",
              " ((0, 1, 1), (3, 11, 4)),\n",
              " ((1, 0, 1), (3, 11, 4)),\n",
              " ((0, 0, 1), (3, 11, 4)),\n",
              " ((0, 1, 0), (3, 11, 4)),\n",
              " ((1, 0, 1), (4, 11, 1)),\n",
              " ((0, 0, 1), (4, 11, 1)),\n",
              " ((0, 1, 0), (4, 11, 1)),\n",
              " ((1, 1, 0), (4, 11, 1)),\n",
              " ((1, 0, 0), (4, 11, 1)),\n",
              " ((0, 1, 1), (4, 11, 1)),\n",
              " ((0, 0, 0), (4, 11, 2)),\n",
              " ((1, 0, 0), (4, 11, 2)),\n",
              " ((0, 0, 1), (4, 11, 2)),\n",
              " ((0, 1, 0), (4, 11, 2)),\n",
              " ((1, 0, 1), (4, 11, 3)),\n",
              " ((0, 0, 1), (4, 11, 3)),\n",
              " ((0, 1, 0), (4, 11, 3)),\n",
              " ((1, 1, 0), (4, 11, 3)),\n",
              " ((1, 0, 0), (4, 11, 3)),\n",
              " ((0, 1, 1), (4, 11, 3)),\n",
              " ((0, 1, 0), (4, 12, 5)),\n",
              " ((0, 0, 1), (4, 12, 5)),\n",
              " ((1, 1, 0), (4, 12, 5)),\n",
              " ((1, 0, 0), (4, 12, 5)),\n",
              " ((0, 1, 1), (4, 12, 5)),\n",
              " ((1, 0, 1), (4, 12, 5)),\n",
              " ((1, 1, 0), (5, 12, 1)),\n",
              " ((1, 0, 1), (5, 12, 1)),\n",
              " ((0, 1, 1), (5, 12, 1)),\n",
              " ((1, 1, 1), (5, 12, 1)),\n",
              " ((1, 0, 1), (5, 12, 2)),\n",
              " ((0, 1, 0), (5, 12, 2)),\n",
              " ((0, 0, 1), (5, 12, 2)),\n",
              " ((1, 1, 0), (5, 12, 2)),\n",
              " ((1, 0, 0), (5, 12, 2)),\n",
              " ((0, 1, 1), (5, 12, 2)),\n",
              " ((1, 0, 1), (5, 12, 6)),\n",
              " ((0, 0, 1), (5, 12, 6)),\n",
              " ((0, 1, 0), (5, 12, 6)),\n",
              " ((1, 1, 0), (5, 12, 6)),\n",
              " ((1, 0, 0), (5, 12, 6)),\n",
              " ((0, 1, 1), (5, 12, 6))]"
            ]
          },
          "metadata": {},
          "execution_count": 26
        }
      ],
      "source": [
        "resultado_rdd = datos_rdd.flatMap(lambda dato: map_pdm(*dato))\n",
        "\n",
        "resultado_rdd.collect()"
      ]
    },
    {
      "cell_type": "markdown",
      "source": [
        "### Reduce\n"
      ],
      "metadata": {
        "id": "DHPcloZ1lCCq"
      }
    },
    {
      "cell_type": "code",
      "source": [
        "test = resultado_rdd.reduceByKey(lambda x, y: x + y)\n",
        "test.collect()[0]"
      ],
      "metadata": {
        "id": "ifArrQxelBRp",
        "outputId": "f4bf63fc-140e-48fa-be0b-0b81d65f2030",
        "colab": {
          "base_uri": "https://localhost:8080/"
        }
      },
      "execution_count": 39,
      "outputs": [
        {
          "output_type": "execute_result",
          "data": {
            "text/plain": [
              "((1, 0, 0),\n",
              " (1,\n",
              "  11,\n",
              "  2,\n",
              "  2,\n",
              "  11,\n",
              "  3,\n",
              "  3,\n",
              "  11,\n",
              "  2,\n",
              "  3,\n",
              "  11,\n",
              "  4,\n",
              "  4,\n",
              "  11,\n",
              "  1,\n",
              "  4,\n",
              "  11,\n",
              "  2,\n",
              "  4,\n",
              "  11,\n",
              "  3,\n",
              "  4,\n",
              "  12,\n",
              "  5,\n",
              "  5,\n",
              "  12,\n",
              "  2,\n",
              "  5,\n",
              "  12,\n",
              "  6))"
            ]
          },
          "metadata": {},
          "execution_count": 39
        }
      ]
    },
    {
      "cell_type": "code",
      "source": [
        "def triangulo(nodos):\n",
        "\n",
        "  cont = 0\n",
        "  posibles = []\n",
        "  trio = []\n",
        "\n",
        "  for i in nodos:\n",
        "\n",
        "    trio.append(i)\n",
        "    cont += 1\n",
        "\n",
        "    if cont % 3 == 0:\n",
        "      posibles.append(tuple(trio))\n",
        "      trio = []\n",
        "\n",
        "  print(posibles)\n",
        "  final = []\n",
        "  for i in range(len(posibles)):\n",
        "    trio_2 = posibles[i]\n",
        "\n",
        "    for j in range(i, len(posibles)):\n",
        "      if j + 1 >= len(posibles):\n",
        "        break\n",
        "      sig = posibles[j]\n",
        "      sub_sig = posibles[j + 1]\n",
        "\n",
        "\n",
        "      if trio_2[2] == sig[0] and sig[2] == sub_sig[0] and trio_2[0] == sub_sig[2]:\n",
        "        final.append((trio_2[0], sig[0], sub_sig[0]))\n",
        "\n",
        "      elif trio_2[2] == sub_sig[0] and sig[0] == sub_sig[2] and trio_2[0] == sig[2]:\n",
        "        final.append((trio_2[0], sig[0], sub_sig[0]))\n",
        "\n",
        "  return final"
      ],
      "metadata": {
        "id": "Fs5YcvBaoyFn"
      },
      "execution_count": 40,
      "outputs": []
    },
    {
      "cell_type": "code",
      "source": [
        "dicc = {}\n",
        "for i in test.collect():\n",
        "  dicc[i[0]] = triangulo(i[1])\n",
        "\n",
        "dicc.keys()"
      ],
      "metadata": {
        "id": "AD2rocDQwKrR",
        "outputId": "838ce11f-a417-4b82-95cd-dc5c93576758",
        "colab": {
          "base_uri": "https://localhost:8080/"
        }
      },
      "execution_count": 41,
      "outputs": [
        {
          "output_type": "stream",
          "name": "stdout",
          "text": [
            "[(1, 11, 2), (2, 11, 3), (3, 11, 2), (3, 11, 4), (4, 11, 1), (4, 11, 2), (4, 11, 3), (4, 12, 5), (5, 12, 2), (5, 12, 6)]\n",
            "[(1, 11, 2), (2, 11, 3), (3, 11, 2), (3, 11, 4), (4, 11, 1), (4, 11, 2), (4, 11, 3), (4, 12, 5), (5, 12, 2), (5, 12, 6)]\n",
            "[(1, 11, 2), (2, 11, 3), (3, 11, 2), (3, 11, 4), (4, 11, 1), (4, 11, 2), (4, 11, 3), (4, 12, 5), (5, 12, 2), (5, 12, 6)]\n",
            "[(1, 11, 3), (5, 12, 1)]\n",
            "[(1, 11, 2), (1, 11, 3), (2, 11, 3), (3, 11, 2), (3, 11, 4), (4, 11, 1), (4, 11, 3), (4, 12, 5), (5, 12, 1), (5, 12, 2), (5, 12, 6)]\n",
            "[(1, 11, 2), (1, 11, 3), (2, 11, 3), (3, 11, 2), (3, 11, 4), (4, 11, 1), (4, 11, 3), (4, 12, 5), (5, 12, 1), (5, 12, 2), (5, 12, 6)]\n",
            "[(1, 11, 2), (1, 11, 3), (2, 11, 3), (3, 11, 2), (3, 11, 4), (4, 11, 1), (4, 11, 3), (4, 12, 5), (5, 12, 1), (5, 12, 2), (5, 12, 6)]\n",
            "[(4, 11, 2)]\n"
          ]
        },
        {
          "output_type": "execute_result",
          "data": {
            "text/plain": [
              "dict_keys([(1, 0, 0), (0, 1, 0), (0, 0, 1), (1, 1, 1), (0, 1, 1), (1, 0, 1), (1, 1, 0), (0, 0, 0)])"
            ]
          },
          "metadata": {},
          "execution_count": 41
        }
      ]
    },
    {
      "cell_type": "code",
      "source": [
        "dicc.values()"
      ],
      "metadata": {
        "id": "sX7peyXNwjyK",
        "colab": {
          "base_uri": "https://localhost:8080/"
        },
        "outputId": "581c3a07-6a1a-4951-d53e-ab546f0fa3af"
      },
      "execution_count": 31,
      "outputs": [
        {
          "output_type": "execute_result",
          "data": {
            "text/plain": [
              "dict_values([[], [], [], [], [(1, 3, 4)], [(1, 3, 4)], [(1, 3, 4)], []])"
            ]
          },
          "metadata": {},
          "execution_count": 31
        }
      ]
    },
    {
      "cell_type": "code",
      "source": [],
      "metadata": {
        "id": "73gRg-EEVJeS"
      },
      "execution_count": 31,
      "outputs": []
    }
  ],
  "metadata": {
    "kernelspec": {
      "display_name": "Python 3",
      "language": "python",
      "name": "python3"
    },
    "language_info": {
      "codemirror_mode": {
        "name": "ipython",
        "version": 3
      },
      "file_extension": ".py",
      "mimetype": "text/x-python",
      "name": "python",
      "nbconvert_exporter": "python",
      "pygments_lexer": "ipython3",
      "version": "3.11.9"
    },
    "colab": {
      "provenance": []
    }
  },
  "nbformat": 4,
  "nbformat_minor": 0
}