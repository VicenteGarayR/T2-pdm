{
  "cells": [
    {
      "cell_type": "code",
      "execution_count": 1,
      "metadata": {
        "colab": {
          "base_uri": "https://localhost:8080/"
        },
        "id": "ZdIx0XW5kahb",
        "outputId": "bcc93470-8cea-4550-ebff-b2a5f015fb8d"
      },
      "outputs": [
        {
          "name": "stdout",
          "output_type": "stream",
          "text": [
            "Collecting pyspark\n",
            "  Downloading pyspark-3.5.1.tar.gz (317.0 MB)\n",
            "\u001b[2K     \u001b[90m━━━━━━━━━━━━━━━━━━━━━━━━━━━━━━━━━━━━━━━━\u001b[0m \u001b[32m317.0/317.0 MB\u001b[0m \u001b[31m2.6 MB/s\u001b[0m eta \u001b[36m0:00:00\u001b[0m\n",
            "\u001b[?25h  Preparing metadata (setup.py) ... \u001b[?25l\u001b[?25hdone\n",
            "Requirement already satisfied: py4j==0.10.9.7 in /usr/local/lib/python3.10/dist-packages (from pyspark) (0.10.9.7)\n",
            "Building wheels for collected packages: pyspark\n",
            "  Building wheel for pyspark (setup.py) ... \u001b[?25l\u001b[?25hdone\n",
            "  Created wheel for pyspark: filename=pyspark-3.5.1-py2.py3-none-any.whl size=317488491 sha256=371be37e2bb83bb4d9d78454353b705ba3c6cf58c53b7c8f09c118d9f550055b\n",
            "  Stored in directory: /root/.cache/pip/wheels/80/1d/60/2c256ed38dddce2fdd93be545214a63e02fbd8d74fb0b7f3a6\n",
            "Successfully built pyspark\n",
            "Installing collected packages: pyspark\n",
            "Successfully installed pyspark-3.5.1\n",
            "Collecting neo4j\n",
            "  Downloading neo4j-5.20.0.tar.gz (202 kB)\n",
            "\u001b[2K     \u001b[90m━━━━━━━━━━━━━━━━━━━━━━━━━━━━━━━━━━━━━━━━\u001b[0m \u001b[32m203.0/203.0 kB\u001b[0m \u001b[31m4.3 MB/s\u001b[0m eta \u001b[36m0:00:00\u001b[0m\n",
            "\u001b[?25h  Installing build dependencies ... \u001b[?25l\u001b[?25hdone\n",
            "  Getting requirements to build wheel ... \u001b[?25l\u001b[?25hdone\n",
            "  Installing backend dependencies ... \u001b[?25l\u001b[?25hdone\n",
            "  Preparing metadata (pyproject.toml) ... \u001b[?25l\u001b[?25hdone\n",
            "Requirement already satisfied: pytz in /usr/local/lib/python3.10/dist-packages (from neo4j) (2023.4)\n",
            "Building wheels for collected packages: neo4j\n",
            "  Building wheel for neo4j (pyproject.toml) ... \u001b[?25l\u001b[?25hdone\n",
            "  Created wheel for neo4j: filename=neo4j-5.20.0-py3-none-any.whl size=280771 sha256=a74bf931771fc4690c2a44bfd9bfa6c633f2cd95e47c4436e541d74a1b7651b7\n",
            "  Stored in directory: /root/.cache/pip/wheels/cb/12/66/764554d079caad4b9a11a02cfc0d200dd876d12935b9cf7e64\n",
            "Successfully built neo4j\n",
            "Installing collected packages: neo4j\n",
            "Successfully installed neo4j-5.20.0\n",
            "Requirement already satisfied: pandas in /usr/local/lib/python3.10/dist-packages (2.0.3)\n",
            "Requirement already satisfied: python-dateutil>=2.8.2 in /usr/local/lib/python3.10/dist-packages (from pandas) (2.8.2)\n",
            "Requirement already satisfied: pytz>=2020.1 in /usr/local/lib/python3.10/dist-packages (from pandas) (2023.4)\n",
            "Requirement already satisfied: tzdata>=2022.1 in /usr/local/lib/python3.10/dist-packages (from pandas) (2024.1)\n",
            "Requirement already satisfied: numpy>=1.21.0 in /usr/local/lib/python3.10/dist-packages (from pandas) (1.25.2)\n",
            "Requirement already satisfied: six>=1.5 in /usr/local/lib/python3.10/dist-packages (from python-dateutil>=2.8.2->pandas) (1.16.0)\n"
          ]
        }
      ],
      "source": [
        "!pip install pyspark\n",
        "!pip install neo4j\n",
        "!pip install pandas\n",
        "\n",
        "import pandas as pd"
      ]
    },
    {
      "cell_type": "code",
      "execution_count": 2,
      "metadata": {
        "id": "442cTyxfkahc"
      },
      "outputs": [],
      "source": [
        "from pyspark.sql import SparkSession\n",
        "\n",
        "spark = SparkSession.builder \\\n",
        "    .appName(\"Ejemplo de PySpark en Jupyter Notebook\") \\\n",
        "    .getOrCreate()\n",
        "\n",
        "# Obtener el SparkContext\n",
        "sc = spark.sparkContext"
      ]
    },
    {
      "cell_type": "markdown",
      "metadata": {
        "id": "ll88IqJaP9FW"
      },
      "source": [
        "# Parte 2\n",
        "## Problemas a resolver"
      ]
    },
    {
      "cell_type": "markdown",
      "metadata": {
        "id": "m8rsWXqNPu3z"
      },
      "source": [
        "### Funciones para implementar PySpark"
      ]
    },
    {
      "cell_type": "code",
      "execution_count": 3,
      "metadata": {
        "id": "AwZLiuHTkahe"
      },
      "outputs": [],
      "source": [
        "def hash(x, B):\n",
        "    return x % B"
      ]
    },
    {
      "cell_type": "code",
      "execution_count": 4,
      "metadata": {
        "id": "ESduWr_1kahf"
      },
      "outputs": [],
      "source": [
        "def map_pdm(x, arista, y, B):\n",
        "\n",
        "    x_hash = hash(x, B)\n",
        "    y_hash = hash(y, B)\n",
        "\n",
        "    l = []\n",
        "    for i in range(B):\n",
        "        l.append(((x_hash, y_hash, i), (x, arista, y)))\n",
        "        l.append(((i, x_hash, y_hash), (x, arista, y)))\n",
        "        l.append(((y_hash, i, x_hash), (x, arista, y)))\n",
        "\n",
        "    return set(l)"
      ]
    },
    {
      "cell_type": "code",
      "execution_count": 5,
      "metadata": {
        "id": "Fs5YcvBaoyFn"
      },
      "outputs": [],
      "source": [
        "def triangulo(nodos):\n",
        "\n",
        "  triangulos_detectados = []\n",
        "  for i in range(len(nodos)):\n",
        "    nodo_actual = nodos[i]\n",
        "\n",
        "    for j in range(i + 1, len(nodos)):\n",
        "\n",
        "      nodo_sig = nodos[j]\n",
        "\n",
        "      for k in range(j + 1, len(nodos)):\n",
        "        nodo_sub_sig = nodos[k]\n",
        "\n",
        "        if nodo_actual[2] == nodo_sig[0] and nodo_sig[2] == nodo_sub_sig[0] and nodo_actual[0] == nodo_sub_sig[2]:\n",
        "          triangulos_detectados.append((nodo_actual[0], nodo_sig[0], nodo_sub_sig[0]))\n",
        "\n",
        "        elif nodo_actual[2] == nodo_sub_sig[0] and nodo_sig[0] == nodo_sub_sig[2] and nodo_actual[0] == nodo_sig[2]:\n",
        "          triangulos_detectados.append((nodo_actual[0], nodo_sig[0], nodo_sub_sig[0]))\n",
        "\n",
        "        elif (nodo_actual[0] == nodo_sub_sig[0] and nodo_actual[2] == nodo_sig[2] and nodo_sub_sig[2] == nodo_sig[0]):\n",
        "          triangulos_detectados.append((nodo_actual[0], nodo_sig[0], nodo_sub_sig[0]))\n",
        "          \n",
        "  return triangulos_detectados"
      ]
    },
    {
      "cell_type": "markdown",
      "metadata": {
        "id": "X7xU92oQQMnY"
      },
      "source": [
        "*Conección a Neo4j*"
      ]
    },
    {
      "cell_type": "code",
      "execution_count": 6,
      "metadata": {
        "colab": {
          "base_uri": "https://localhost:8080/"
        },
        "id": "o7ZxiIYE5XqO",
        "outputId": "be4ff58d-a3c2-427f-e258-0bc8bfbec1f0"
      },
      "outputs": [
        {
          "name": "stdout",
          "output_type": "stream",
          "text": [
            "Connection to Neo4j established successfully!\n"
          ]
        }
      ],
      "source": [
        "from neo4j import GraphDatabase\n",
        "\n",
        "URI = \"neo4j+s://06ae1fa1.databases.neo4j.io\"\n",
        "AUTH = (\"neo4j\",\"QjwVk3kN-OI5bTt-fg6LZy-F4LMHCpL9HFxuvSuq-OE\")\n",
        "\n",
        "driver = GraphDatabase.driver(URI, auth=AUTH)\n",
        "with driver.session() as session:\n",
        "    try:\n",
        "        session.run(\"RETURN 1\")\n",
        "        print(\"Connection to Neo4j established successfully!\")\n",
        "    except Exception as e:\n",
        "        print(f\"Failed to connect to Neo4j: {e}\")"
      ]
    },
    {
      "cell_type": "markdown",
      "metadata": {
        "id": "18dT_x1GGxwx"
      },
      "source": [
        "### Cargar el grafo\n",
        "\n",
        "\n"
      ]
    },
    {
      "cell_type": "code",
      "execution_count": 7,
      "metadata": {
        "id": "WWLi43whGxwz"
      },
      "outputs": [],
      "source": [
        "def get_data_from_neo4j():\n",
        "    with driver.session() as session:\n",
        "        result = session.run(\"\"\"\n",
        "        MATCH (n1:Node)-[r:RELATED]->(n2:Node)\n",
        "        RETURN n1.id AS id_form, n2.id AS id_to, r.weight AS weight\n",
        "        \"\"\")\n",
        "        data = [record.data() for record in result]\n",
        "        tuples = [(d['id_form'], d['weight'], d['id_to']) for d in data]\n",
        "    return tuples\n",
        "\n",
        "# Obtiene los datos de Neo4j\n",
        "neo4j_data = get_data_from_neo4j()"
      ]
    },
    {
      "cell_type": "code",
      "execution_count": 8,
      "metadata": {
        "id": "dWtrIq75FS5z"
      },
      "outputs": [],
      "source": [
        "# Neo4j a RDD\n",
        "rdd = sc.parallelize(neo4j_data)"
      ]
    },
    {
      "cell_type": "code",
      "execution_count": 9,
      "metadata": {
        "colab": {
          "base_uri": "https://localhost:8080/"
        },
        "id": "-n_5GHpKG9nR",
        "outputId": "75e0d8bc-fdf6-482e-b50d-51f8aae6487c"
      },
      "outputs": [
        {
          "data": {
            "text/plain": [
              "[(1, 1, 2), (1, 7, 3), (4, 3, 5), (6, 5, 7), (6, 14137, 8)]"
            ]
          },
          "execution_count": 9,
          "metadata": {},
          "output_type": "execute_result"
        }
      ],
      "source": [
        "rdd.take(5)"
      ]
    },
    {
      "cell_type": "markdown",
      "metadata": {
        "id": "E53RkztzQ2DJ"
      },
      "source": [
        "Función para la busqueda de triángulos"
      ]
    },
    {
      "cell_type": "code",
      "execution_count": 10,
      "metadata": {
        "id": "iQVmmLnRgp_L"
      },
      "outputs": [],
      "source": [
        "# toma el rdd y un b para los buckets de la función de hash y\n",
        "# devuelve un diccionario con las claves originales y los triángulos detectados.\n",
        "def buscar_triangulos(rdd, b):\n",
        "    rdd_neo4j_map = rdd.flatMap(lambda dato: map_pdm(*dato, b))\n",
        "    reduce_neo4j = rdd_neo4j_map.groupByKey().mapValues(list)\n",
        "    trangulos = reduce_neo4j.map(lambda nodos: (nodos[0], triangulo(nodos[1])))\n",
        "\n",
        "    dicc = {}\n",
        "    for i in trangulos.collect():\n",
        "        dicc[i[0]] = i[1]\n",
        "\n",
        "    return dicc\n"
      ]
    },
    {
      "cell_type": "code",
      "execution_count": 11,
      "metadata": {
        "id": "X1MjqfOUAhl9"
      },
      "outputs": [],
      "source": [
        "#buckets\n",
        "B = 100"
      ]
    },
    {
      "cell_type": "code",
      "execution_count": 12,
      "metadata": {
        "id": "G7g91-IKAjoJ"
      },
      "outputs": [],
      "source": [
        "test = sc.parallelize(neo4j_data)"
      ]
    },
    {
      "cell_type": "code",
      "execution_count": 13,
      "metadata": {
        "id": "keUzH2RWrA38"
      },
      "outputs": [],
      "source": [
        "triangulos_detectados = buscar_triangulos(test, B)"
      ]
    },
    {
      "cell_type": "code",
      "execution_count": 17,
      "metadata": {
        "colab": {
          "base_uri": "https://localhost:8080/"
        },
        "id": "6doB8SKrAv9t",
        "outputId": "08df5e30-c487-424e-b9a8-c82434e690e0"
      },
      "outputs": [
        {
          "data": {
            "text/plain": [
              "[((7, 76, 6), []),\n",
              " ((61, 7, 57), []),\n",
              " ((7, 10, 58), []),\n",
              " ((9, 7, 13), [(407, 409, 413)]),\n",
              " ((64, 24, 27), [(124, 127, 164)])]"
            ]
          },
          "execution_count": 17,
          "metadata": {},
          "output_type": "execute_result"
        }
      ],
      "source": [
        "list(triangulos_detectados.items())[:5]"
      ]
    },
    {
      "cell_type": "code",
      "execution_count": 18,
      "metadata": {
        "id": "tWvs-_fCEqLi"
      },
      "outputs": [],
      "source": [
        "driver.close()"
      ]
    }
  ],
  "metadata": {
    "colab": {
      "provenance": []
    },
    "kernelspec": {
      "display_name": "Python 3",
      "language": "python",
      "name": "python3"
    },
    "language_info": {
      "codemirror_mode": {
        "name": "ipython",
        "version": 3
      },
      "file_extension": ".py",
      "mimetype": "text/x-python",
      "name": "python",
      "nbconvert_exporter": "python",
      "pygments_lexer": "ipython3",
      "version": "3.11.9"
    }
  },
  "nbformat": 4,
  "nbformat_minor": 0
}
