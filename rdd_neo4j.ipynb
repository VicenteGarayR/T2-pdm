{
  "cells": [
    {
      "cell_type": "code",
      "execution_count": 2,
      "metadata": {
        "colab": {
          "base_uri": "https://localhost:8080/"
        },
        "id": "ZdIx0XW5kahb",
        "outputId": "6d9777ff-6ca6-4b72-ab82-77381c5eacbd"
      },
      "outputs": [
        {
          "output_type": "stream",
          "name": "stdout",
          "text": [
            "Collecting pyspark\n",
            "  Downloading pyspark-3.5.1.tar.gz (317.0 MB)\n",
            "\u001b[2K     \u001b[90m━━━━━━━━━━━━━━━━━━━━━━━━━━━━━━━━━━━━━━━━\u001b[0m \u001b[32m317.0/317.0 MB\u001b[0m \u001b[31m4.3 MB/s\u001b[0m eta \u001b[36m0:00:00\u001b[0m\n",
            "\u001b[?25h  Preparing metadata (setup.py) ... \u001b[?25l\u001b[?25hdone\n",
            "Requirement already satisfied: py4j==0.10.9.7 in /usr/local/lib/python3.10/dist-packages (from pyspark) (0.10.9.7)\n",
            "Building wheels for collected packages: pyspark\n",
            "  Building wheel for pyspark (setup.py) ... \u001b[?25l\u001b[?25hdone\n",
            "  Created wheel for pyspark: filename=pyspark-3.5.1-py2.py3-none-any.whl size=317488491 sha256=ef694b21efd3cdb4241c122f9b2922cc28317f835656ea260cb8021c0bd27e75\n",
            "  Stored in directory: /root/.cache/pip/wheels/80/1d/60/2c256ed38dddce2fdd93be545214a63e02fbd8d74fb0b7f3a6\n",
            "Successfully built pyspark\n",
            "Installing collected packages: pyspark\n",
            "Successfully installed pyspark-3.5.1\n",
            "Collecting neo4j\n",
            "  Downloading neo4j-5.21.0-py3-none-any.whl (286 kB)\n",
            "\u001b[2K     \u001b[90m━━━━━━━━━━━━━━━━━━━━━━━━━━━━━━━━━━━━━━━━\u001b[0m \u001b[32m286.8/286.8 kB\u001b[0m \u001b[31m2.5 MB/s\u001b[0m eta \u001b[36m0:00:00\u001b[0m\n",
            "\u001b[?25hRequirement already satisfied: pytz in /usr/local/lib/python3.10/dist-packages (from neo4j) (2023.4)\n",
            "Installing collected packages: neo4j\n",
            "Successfully installed neo4j-5.21.0\n",
            "Requirement already satisfied: pandas in /usr/local/lib/python3.10/dist-packages (2.0.3)\n",
            "Requirement already satisfied: python-dateutil>=2.8.2 in /usr/local/lib/python3.10/dist-packages (from pandas) (2.8.2)\n",
            "Requirement already satisfied: pytz>=2020.1 in /usr/local/lib/python3.10/dist-packages (from pandas) (2023.4)\n",
            "Requirement already satisfied: tzdata>=2022.1 in /usr/local/lib/python3.10/dist-packages (from pandas) (2024.1)\n",
            "Requirement already satisfied: numpy>=1.21.0 in /usr/local/lib/python3.10/dist-packages (from pandas) (1.25.2)\n",
            "Requirement already satisfied: six>=1.5 in /usr/local/lib/python3.10/dist-packages (from python-dateutil>=2.8.2->pandas) (1.16.0)\n"
          ]
        }
      ],
      "source": [
        "!pip install pyspark\n",
        "!pip install neo4j\n",
        "!pip install pandas\n",
        "\n",
        "import pandas as pd\n",
        "import numpy as np"
      ]
    },
    {
      "cell_type": "code",
      "execution_count": 3,
      "metadata": {
        "id": "442cTyxfkahc"
      },
      "outputs": [],
      "source": [
        "from pyspark.sql import SparkSession\n",
        "\n",
        "spark = SparkSession.builder \\\n",
        "    .appName(\"Ejemplo de PySpark en Jupyter Notebook\") \\\n",
        "    .getOrCreate()\n",
        "\n",
        "# Obtener el SparkContext\n",
        "sc = spark.sparkContext"
      ]
    },
    {
      "cell_type": "markdown",
      "metadata": {
        "id": "ll88IqJaP9FW"
      },
      "source": [
        "# Parte 2\n",
        "## Problemas a resolver"
      ]
    },
    {
      "cell_type": "markdown",
      "metadata": {
        "id": "m8rsWXqNPu3z"
      },
      "source": [
        "### Funciones para implementar PySpark"
      ]
    },
    {
      "cell_type": "code",
      "execution_count": 4,
      "metadata": {
        "id": "AwZLiuHTkahe"
      },
      "outputs": [],
      "source": [
        "def hash(x, B):\n",
        "    return x % B"
      ]
    },
    {
      "cell_type": "code",
      "execution_count": 5,
      "metadata": {
        "id": "ESduWr_1kahf"
      },
      "outputs": [],
      "source": [
        "def map_pdm(x, arista, y, B):\n",
        "\n",
        "    x_hash = hash(x, B)\n",
        "    y_hash = hash(y, B)\n",
        "\n",
        "    l = []\n",
        "    for i in range(B):\n",
        "        l.append(((x_hash, y_hash, i), (x, arista, y)))\n",
        "        l.append(((i, x_hash, y_hash), (x, arista, y)))\n",
        "        l.append(((y_hash, i, x_hash), (x, arista, y)))\n",
        "\n",
        "    return set(l)"
      ]
    },
    {
      "cell_type": "code",
      "execution_count": 6,
      "metadata": {
        "id": "Fs5YcvBaoyFn"
      },
      "outputs": [],
      "source": [
        "def triangulo(nodos):\n",
        "\n",
        "  triangulos_detectados = []\n",
        "  for i in range(len(nodos)):\n",
        "    nodo_actual = nodos[i]\n",
        "\n",
        "    for j in range(i + 1, len(nodos)):\n",
        "\n",
        "      nodo_sig = nodos[j]\n",
        "\n",
        "      for k in range(j + 1, len(nodos)):\n",
        "        nodo_sub_sig = nodos[k]\n",
        "\n",
        "        if nodo_actual[2] == nodo_sig[0] and nodo_sig[2] == nodo_sub_sig[0] and nodo_actual[0] == nodo_sub_sig[2]:\n",
        "          triangulos_detectados.append((nodo_actual[0], nodo_sig[0], nodo_sub_sig[0]))\n",
        "\n",
        "        elif nodo_actual[2] == nodo_sub_sig[0] and nodo_sig[0] == nodo_sub_sig[2] and nodo_actual[0] == nodo_sig[2]:\n",
        "          triangulos_detectados.append((nodo_actual[0], nodo_sig[0], nodo_sub_sig[0]))\n",
        "\n",
        "        elif (nodo_actual[0] == nodo_sub_sig[0] and nodo_actual[2] == nodo_sig[2] and nodo_sub_sig[2] == nodo_sig[0]):\n",
        "          triangulos_detectados.append((nodo_actual[0], nodo_sig[0], nodo_sub_sig[0]))\n",
        "\n",
        "  return triangulos_detectados"
      ]
    },
    {
      "cell_type": "markdown",
      "metadata": {
        "id": "X7xU92oQQMnY"
      },
      "source": [
        "*Conección a Neo4j*"
      ]
    },
    {
      "cell_type": "code",
      "execution_count": 7,
      "metadata": {
        "colab": {
          "base_uri": "https://localhost:8080/"
        },
        "id": "o7ZxiIYE5XqO",
        "outputId": "7b48655f-6ee0-46c4-c671-3e2fa4734bfd"
      },
      "outputs": [
        {
          "output_type": "stream",
          "name": "stdout",
          "text": [
            "Connection to Neo4j established successfully!\n"
          ]
        }
      ],
      "source": [
        "from neo4j import GraphDatabase\n",
        "\n",
        "URI = \"neo4j+s://06ae1fa1.databases.neo4j.io\"\n",
        "AUTH = (\"neo4j\",\"QjwVk3kN-OI5bTt-fg6LZy-F4LMHCpL9HFxuvSuq-OE\")\n",
        "\n",
        "driver = GraphDatabase.driver(URI, auth=AUTH)\n",
        "with driver.session() as session:\n",
        "    try:\n",
        "        session.run(\"RETURN 1\")\n",
        "        print(\"Connection to Neo4j established successfully!\")\n",
        "    except Exception as e:\n",
        "        print(f\"Failed to connect to Neo4j: {e}\")"
      ]
    },
    {
      "cell_type": "markdown",
      "metadata": {
        "id": "18dT_x1GGxwx"
      },
      "source": [
        "### Cargar el grafo\n",
        "\n",
        "\n"
      ]
    },
    {
      "cell_type": "code",
      "execution_count": 8,
      "metadata": {
        "id": "WWLi43whGxwz"
      },
      "outputs": [],
      "source": [
        "def get_data_from_neo4j():\n",
        "    with driver.session() as session:\n",
        "        result = session.run(\"\"\"\n",
        "        MATCH (n1:Node)-[r:RELATED]->(n2:Node)\n",
        "        RETURN n1.id AS id_form, n2.id AS id_to, r.weight AS weight\n",
        "        \"\"\")\n",
        "        data = [record.data() for record in result]\n",
        "        tuples = [(d['id_form'], d['weight'], d['id_to']) for d in data]\n",
        "    return tuples\n",
        "\n",
        "# Obtiene los datos de Neo4j\n",
        "neo4j_data = get_data_from_neo4j()"
      ]
    },
    {
      "cell_type": "code",
      "execution_count": 9,
      "metadata": {
        "id": "dWtrIq75FS5z"
      },
      "outputs": [],
      "source": [
        "# Neo4j a RDD\n",
        "rdd = sc.parallelize(neo4j_data)"
      ]
    },
    {
      "cell_type": "code",
      "execution_count": 10,
      "metadata": {
        "colab": {
          "base_uri": "https://localhost:8080/"
        },
        "id": "-n_5GHpKG9nR",
        "outputId": "50fe58ad-3476-4f64-b507-3565fe96089d"
      },
      "outputs": [
        {
          "output_type": "execute_result",
          "data": {
            "text/plain": [
              "[(1, 1, 2), (1, 7, 3), (4, 3, 5), (6, 5, 7), (6, 14137, 8)]"
            ]
          },
          "metadata": {},
          "execution_count": 10
        }
      ],
      "source": [
        "rdd.take(5)"
      ]
    },
    {
      "cell_type": "markdown",
      "metadata": {
        "id": "E53RkztzQ2DJ"
      },
      "source": [
        "Función para la busqueda de triángulos"
      ]
    },
    {
      "cell_type": "code",
      "execution_count": 11,
      "metadata": {
        "id": "iQVmmLnRgp_L"
      },
      "outputs": [],
      "source": [
        "# toma el rdd y un b para los buckets de la función de hash y\n",
        "# devuelve un diccionario con las claves originales y los triángulos detectados.\n",
        "def buscar_triangulos(rdd, b):\n",
        "    rdd_neo4j_map = rdd.flatMap(lambda dato: map_pdm(*dato, b))\n",
        "    reduce_neo4j = rdd_neo4j_map.groupByKey().mapValues(list)\n",
        "    trangulos = reduce_neo4j.map(lambda nodos: (nodos[0], triangulo(nodos[1])))\n",
        "\n",
        "    dicc = {}\n",
        "    for i in trangulos.collect():\n",
        "        dicc[i[0]] = i[1]\n",
        "\n",
        "    return dicc\n"
      ]
    },
    {
      "cell_type": "code",
      "execution_count": 12,
      "metadata": {
        "id": "X1MjqfOUAhl9"
      },
      "outputs": [],
      "source": [
        "#buckets\n",
        "B = 100"
      ]
    },
    {
      "cell_type": "code",
      "execution_count": 13,
      "metadata": {
        "id": "keUzH2RWrA38"
      },
      "outputs": [],
      "source": [
        "triangulos_detectados = buscar_triangulos(rdd, B)"
      ]
    },
    {
      "cell_type": "code",
      "execution_count": 14,
      "metadata": {
        "colab": {
          "base_uri": "https://localhost:8080/"
        },
        "id": "6doB8SKrAv9t",
        "outputId": "c0e7fe4a-00dc-4400-eb62-7e9e04f115d0"
      },
      "outputs": [
        {
          "output_type": "execute_result",
          "data": {
            "text/plain": [
              "[((13, 15, 81), []),\n",
              " ((54, 44, 51), [(44, 51, 54)]),\n",
              " ((44, 52, 77), []),\n",
              " ((53, 44, 64), []),\n",
              " ((42, 24, 75), [])]"
            ]
          },
          "metadata": {},
          "execution_count": 14
        }
      ],
      "source": [
        "list(triangulos_detectados.items())[:5]"
      ]
    },
    {
      "cell_type": "code",
      "source": [
        "#buscamos el nodo de valor maximo\n",
        "\n",
        "max_nodo = rdd.map(lambda x: (x[0], x[2])).reduce(lambda a, b: (max(a[0], b[0]), max(a[1], b[1])))\n",
        "max_nodo = max(max_nodo[0], max_nodo[1])\n",
        "\n",
        "#Si comparamos el valor maximo con la cantidad de nodos, son iguales\n",
        "#Es decir van del 1 hasta el nodo maximo\n",
        "\n",
        "cant_nodo = rdd.flatMap(lambda x: [x[0], x[2]]).distinct().count()\n",
        "\n",
        "print(f\"Max nodo: {max_nodo}, cantidad de nodo: {cant_nodo}\")\n",
        "\n",
        "# En cambio el maximo de una arista es bastante mayor a la cantidad de aristas\n",
        "# por lo tanto vamos a crear un diccionario que tome el valor de una arista\n",
        "# y entregue en que posición va si ordenamos las aristas de menor a mayor\n",
        "# para que nuestra matriz no ocupe tanta memoria\n",
        "\n",
        "max_arista = rdd.map(lambda x: x[1]).reduce(lambda a, b: max(a, b))\n",
        "\n",
        "cant_aristas = rdd.map(lambda x: x[1]).distinct().count()\n",
        "\n",
        "print(f\"Max arista: {max_arista}, cantidad de aristas: {cant_aristas}\")\n",
        "\n",
        "aristas = rdd.map(lambda x: x[1]).distinct().sortBy(lambda x: x).collect()\n",
        "\n",
        "aristas_dict = {val: id + 1 for id, val in enumerate(aristas)}\n",
        "\n",
        "# Crear un diccionario inverso para mapear posiciones de vuelta a valores de aristas\n",
        "\n",
        "inverse_aristas_dict = {v: k for k, v in aristas_dict.items()}"
      ],
      "metadata": {
        "colab": {
          "base_uri": "https://localhost:8080/"
        },
        "id": "lfM7_wJ-UqpM",
        "outputId": "2c38008a-45df-472d-cff2-0f7e9f86428c"
      },
      "execution_count": 49,
      "outputs": [
        {
          "output_type": "stream",
          "name": "stdout",
          "text": [
            "Max nodo: 1574, cantidad de nodo: 1574\n",
            "Max arista: 1489618, cantidad de aristas: 9968\n"
          ]
        }
      ]
    },
    {
      "cell_type": "code",
      "source": [
        "def rdd_a_matriz(rdd, dicc):\n",
        "\n",
        "  max_nodo = rdd.map(lambda x: (x[0], x[2])).reduce(lambda a, b: (max(a[0], b[0]), max(a[1], b[1])))\n",
        "  max_nodo = max(max_nodo[0], max_nodo[1])\n",
        "\n",
        "  max_arista = rdd.map(lambda x: x[1]).reduce(lambda a, b: max(a, b))\n",
        "\n",
        "  max_arista = dicc[max_arista]\n",
        "\n",
        "  M = np.zeros((max_nodo + 1, max_arista + 1, max_nodo + 1), dtype=int)\n",
        "\n",
        "  # Creamos la matriz y le ingresamos los valores\n",
        "\n",
        "  for i in rdd.collect():\n",
        "    M[i[0]][dicc[i[1]]][i[2]] = 1\n",
        "\n",
        "  return M"
      ],
      "metadata": {
        "id": "d1c9VdFeQOHx"
      },
      "execution_count": 39,
      "outputs": []
    },
    {
      "cell_type": "code",
      "source": [
        "M = rdd_a_matriz(rdd, aristas_dict)"
      ],
      "metadata": {
        "id": "6GHiW4_oR19i"
      },
      "execution_count": 48,
      "outputs": []
    },
    {
      "cell_type": "code",
      "source": [
        "def matriz_a_rdd(M, inverse_dict):\n",
        "\n",
        "  grafo = []\n",
        "\n",
        "  for nodo in range(len(M)):\n",
        "\n",
        "    for arista in range(len(M[nodo])):\n",
        "\n",
        "        for nodo_sig in range(len(M[nodo][arista])):\n",
        "\n",
        "            if M[nodo][arista][nodo_sig] == 1:\n",
        "                grafo.append((nodo, inverse_dict[arista], nodo_sig))\n",
        "\n",
        "  return sc.parallelize(grafo)"
      ],
      "metadata": {
        "id": "NVY88tuJSK3k"
      },
      "execution_count": 45,
      "outputs": []
    },
    {
      "cell_type": "code",
      "source": [
        "new_rdd = sc.parallelize(rdd.take(4))\n",
        "\n",
        "M_test = rdd_a_matriz(new_rdd, aristas_dict)\n",
        "matriz_a_rdd(M_test, inverse_aristas_dict).collect()"
      ],
      "metadata": {
        "colab": {
          "base_uri": "https://localhost:8080/"
        },
        "id": "-uyrNQW2WYtZ",
        "outputId": "0b27c2f8-25d8-40f4-b2b4-5c74d91c69eb"
      },
      "execution_count": 47,
      "outputs": [
        {
          "output_type": "execute_result",
          "data": {
            "text/plain": [
              "[(1, 1, 2), (1, 7, 3), (4, 3, 5), (6, 5, 7)]"
            ]
          },
          "metadata": {},
          "execution_count": 47
        }
      ]
    },
    {
      "cell_type": "markdown",
      "source": [
        "### Resivimos el patron"
      ],
      "metadata": {
        "id": "Pik55avOZISN"
      }
    },
    {
      "cell_type": "markdown",
      "source": [
        "Si el patron viene en matriz lo pasamos a grafo con la función `matriz_a_rdd()`, y si el patrón viene en rdd lo trabajamos tal que así:"
      ],
      "metadata": {
        "id": "XrUjokYXZMxc"
      }
    },
    {
      "cell_type": "code",
      "source": [
        "def patron_in_rdd(patron : list, invers_dict):\n",
        "\n",
        "  for nodo_1, arista, nodo_2 in patron:\n",
        "\n",
        "    if arista not in invers_dict:\n",
        "        return False\n",
        "\n",
        "    if M[nodo_1, invers_dict[arista], nodo_2] == 0:\n",
        "      return False\n",
        "\n",
        "  return True\n"
      ],
      "metadata": {
        "id": "cTQKFHxgcnLD"
      },
      "execution_count": 57,
      "outputs": []
    },
    {
      "cell_type": "code",
      "source": [
        "patron_in_rdd(rdd.take(4), inverse_aristas_dict)"
      ],
      "metadata": {
        "colab": {
          "base_uri": "https://localhost:8080/"
        },
        "id": "k1kLndiKhGlh",
        "outputId": "e24f89db-4eae-488b-d0ca-ff759fb792c0"
      },
      "execution_count": 52,
      "outputs": [
        {
          "output_type": "execute_result",
          "data": {
            "text/plain": [
              "True"
            ]
          },
          "metadata": {},
          "execution_count": 52
        }
      ]
    },
    {
      "cell_type": "code",
      "source": [
        "patron_in_rdd([(1, 7842654, 3)], inverse_aristas_dict)"
      ],
      "metadata": {
        "colab": {
          "base_uri": "https://localhost:8080/"
        },
        "id": "6v8BNSynirUX",
        "outputId": "cd68f250-1e17-4ff3-ebcc-2f0f07e9cd70"
      },
      "execution_count": 60,
      "outputs": [
        {
          "output_type": "execute_result",
          "data": {
            "text/plain": [
              "False"
            ]
          },
          "metadata": {},
          "execution_count": 60
        }
      ]
    },
    {
      "cell_type": "code",
      "source": [
        "def variables(nodos):\n",
        "\n",
        "  for i in range(len(nodos) - 1):\n",
        "        nodo_actual = nodos[i]\n",
        "        nodo_siguiente = nodos[i + 1]\n",
        "\n",
        "        if not np.any(M[nodo_actual, :, nodo_siguiente]):\n",
        "            return False\n",
        "\n",
        "        return True"
      ],
      "metadata": {
        "id": "rgnJhWoLoVFJ"
      },
      "execution_count": 62,
      "outputs": []
    },
    {
      "cell_type": "code",
      "source": [
        "variables((5, 54, 56, 98))"
      ],
      "metadata": {
        "colab": {
          "base_uri": "https://localhost:8080/"
        },
        "id": "nmDe5lRMqOYH",
        "outputId": "519b89ce-c7bb-4a38-9d21-2e5126d614d5"
      },
      "execution_count": 63,
      "outputs": [
        {
          "output_type": "execute_result",
          "data": {
            "text/plain": [
              "False"
            ]
          },
          "metadata": {},
          "execution_count": 63
        }
      ]
    },
    {
      "cell_type": "code",
      "source": [
        "rango_numeros = range(1, 1575)\n",
        "\n",
        "while True:\n",
        "    numeros_azar = np.random.choice(rango_numeros, size=4, replace=False)\n",
        "\n",
        "    if variables(tuple(numeros_azar)):\n",
        "        print(\"Se encontró una secuencia con camino en el grafo:\")\n",
        "        print(numeros_azar)\n",
        "        break"
      ],
      "metadata": {
        "colab": {
          "base_uri": "https://localhost:8080/"
        },
        "id": "56lRsGPUq7Dn",
        "outputId": "f24bb3d4-f999-4d03-a75b-ebd70654d39e"
      },
      "execution_count": 65,
      "outputs": [
        {
          "output_type": "stream",
          "name": "stdout",
          "text": [
            "Se encontró una secuencia con camino en el grafo:\n",
            "[ 44  94 340 788]\n"
          ]
        }
      ]
    },
    {
      "cell_type": "code",
      "execution_count": 61,
      "metadata": {
        "id": "tWvs-_fCEqLi"
      },
      "outputs": [],
      "source": [
        "driver.close()"
      ]
    }
  ],
  "metadata": {
    "colab": {
      "provenance": []
    },
    "kernelspec": {
      "display_name": "Python 3",
      "language": "python",
      "name": "python3"
    },
    "language_info": {
      "codemirror_mode": {
        "name": "ipython",
        "version": 3
      },
      "file_extension": ".py",
      "mimetype": "text/x-python",
      "name": "python",
      "nbconvert_exporter": "python",
      "pygments_lexer": "ipython3",
      "version": "3.11.9"
    }
  },
  "nbformat": 4,
  "nbformat_minor": 0
}