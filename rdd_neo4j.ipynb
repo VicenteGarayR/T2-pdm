{
  "cells": [
    {
      "cell_type": "code",
      "execution_count": 28,
      "metadata": {
        "colab": {
          "base_uri": "https://localhost:8080/"
        },
        "id": "ZdIx0XW5kahb",
        "outputId": "7ac9b460-1ebb-423d-e52f-badddd319cd4"
      },
      "outputs": [
        {
          "name": "stdout",
          "output_type": "stream",
          "text": [
            "Requirement already satisfied: pyspark in /usr/local/lib/python3.10/dist-packages (3.5.1)\n",
            "Requirement already satisfied: py4j==0.10.9.7 in /usr/local/lib/python3.10/dist-packages (from pyspark) (0.10.9.7)\n",
            "Requirement already satisfied: neo4j in /usr/local/lib/python3.10/dist-packages (5.21.0)\n",
            "Requirement already satisfied: pytz in /usr/local/lib/python3.10/dist-packages (from neo4j) (2023.4)\n",
            "Requirement already satisfied: pandas in /usr/local/lib/python3.10/dist-packages (2.0.3)\n",
            "Requirement already satisfied: python-dateutil>=2.8.2 in /usr/local/lib/python3.10/dist-packages (from pandas) (2.8.2)\n",
            "Requirement already satisfied: pytz>=2020.1 in /usr/local/lib/python3.10/dist-packages (from pandas) (2023.4)\n",
            "Requirement already satisfied: tzdata>=2022.1 in /usr/local/lib/python3.10/dist-packages (from pandas) (2024.1)\n",
            "Requirement already satisfied: numpy>=1.21.0 in /usr/local/lib/python3.10/dist-packages (from pandas) (1.25.2)\n",
            "Requirement already satisfied: six>=1.5 in /usr/local/lib/python3.10/dist-packages (from python-dateutil>=2.8.2->pandas) (1.16.0)\n"
          ]
        }
      ],
      "source": [
        "!pip install pyspark\n",
        "!pip install neo4j\n",
        "!pip install pandas\n",
        "\n",
        "import pandas as pd\n",
        "import numpy as np"
      ]
    },
    {
      "cell_type": "code",
      "execution_count": 29,
      "metadata": {
        "id": "442cTyxfkahc"
      },
      "outputs": [],
      "source": [
        "from pyspark.sql import SparkSession\n",
        "\n",
        "spark = SparkSession.builder \\\n",
        "    .appName(\"Ejemplo de PySpark en Jupyter Notebook\") \\\n",
        "    .getOrCreate()\n",
        "\n",
        "# Obtener el SparkContext\n",
        "sc = spark.sparkContext"
      ]
    },
    {
      "cell_type": "markdown",
      "metadata": {
        "id": "ll88IqJaP9FW"
      },
      "source": [
        "# Parte 2\n",
        "## Problemas a resolver"
      ]
    },
    {
      "cell_type": "markdown",
      "metadata": {
        "id": "m8rsWXqNPu3z"
      },
      "source": [
        "### Funciones para implementar PySpark"
      ]
    },
    {
      "cell_type": "code",
      "execution_count": 30,
      "metadata": {
        "id": "AwZLiuHTkahe"
      },
      "outputs": [],
      "source": [
        "def hash(x, B):\n",
        "    return x % B"
      ]
    },
    {
      "cell_type": "code",
      "execution_count": 31,
      "metadata": {
        "id": "ESduWr_1kahf"
      },
      "outputs": [],
      "source": [
        "def map_pdm(x, arista, y, B):\n",
        "\n",
        "    x_hash = hash(x, B)\n",
        "    y_hash = hash(y, B)\n",
        "\n",
        "    l = []\n",
        "    for i in range(B):\n",
        "        l.append(((x_hash, y_hash, i), (x, arista, y)))\n",
        "        l.append(((i, x_hash, y_hash), (x, arista, y)))\n",
        "        l.append(((y_hash, i, x_hash), (x, arista, y)))\n",
        "\n",
        "    return set(l)"
      ]
    },
    {
      "cell_type": "code",
      "execution_count": 32,
      "metadata": {
        "id": "Fs5YcvBaoyFn"
      },
      "outputs": [],
      "source": [
        "def triangulo(nodos):\n",
        "\n",
        "  triangulos_detectados = []\n",
        "  for i in range(len(nodos)):\n",
        "    nodo_actual = nodos[i]\n",
        "\n",
        "    for j in range(i + 1, len(nodos)):\n",
        "\n",
        "      nodo_sig = nodos[j]\n",
        "\n",
        "      for k in range(j + 1, len(nodos)):\n",
        "        nodo_sub_sig = nodos[k]\n",
        "\n",
        "        if nodo_actual[2] == nodo_sig[0] and nodo_sig[2] == nodo_sub_sig[0] and nodo_actual[0] == nodo_sub_sig[2]:\n",
        "          triangulos_detectados.append((nodo_actual[0], nodo_sig[0], nodo_sub_sig[0]))\n",
        "\n",
        "        elif nodo_actual[2] == nodo_sub_sig[0] and nodo_sig[0] == nodo_sub_sig[2] and nodo_actual[0] == nodo_sig[2]:\n",
        "          triangulos_detectados.append((nodo_actual[0], nodo_sig[0], nodo_sub_sig[0]))\n",
        "\n",
        "        elif (nodo_actual[0] == nodo_sub_sig[0] and nodo_actual[2] == nodo_sig[2] and nodo_sub_sig[2] == nodo_sig[0]):\n",
        "          triangulos_detectados.append((nodo_actual[0], nodo_sig[0], nodo_sub_sig[0]))\n",
        "\n",
        "  return triangulos_detectados"
      ]
    },
    {
      "cell_type": "markdown",
      "metadata": {
        "id": "X7xU92oQQMnY"
      },
      "source": [
        "*Conección a Neo4j*"
      ]
    },
    {
      "cell_type": "code",
      "execution_count": 33,
      "metadata": {
        "colab": {
          "base_uri": "https://localhost:8080/"
        },
        "id": "o7ZxiIYE5XqO",
        "outputId": "363219cf-232e-46fc-d043-b22e5c5ec7f3"
      },
      "outputs": [
        {
          "name": "stdout",
          "output_type": "stream",
          "text": [
            "Connection to Neo4j established successfully!\n"
          ]
        }
      ],
      "source": [
        "from neo4j import GraphDatabase\n",
        "\n",
        "URI = \"neo4j+s://06ae1fa1.databases.neo4j.io\"\n",
        "AUTH = (\"neo4j\",\"QjwVk3kN-OI5bTt-fg6LZy-F4LMHCpL9HFxuvSuq-OE\")\n",
        "\n",
        "driver = GraphDatabase.driver(URI, auth=AUTH)\n",
        "with driver.session() as session:\n",
        "    try:\n",
        "        session.run(\"RETURN 1\")\n",
        "        print(\"Connection to Neo4j established successfully!\")\n",
        "    except Exception as e:\n",
        "        print(f\"Failed to connect to Neo4j: {e}\")"
      ]
    },
    {
      "cell_type": "markdown",
      "metadata": {
        "id": "18dT_x1GGxwx"
      },
      "source": [
        "### Cargar el grafo\n",
        "\n",
        "\n"
      ]
    },
    {
      "cell_type": "code",
      "execution_count": 34,
      "metadata": {
        "id": "WWLi43whGxwz"
      },
      "outputs": [],
      "source": [
        "def get_data_from_neo4j():\n",
        "    with driver.session() as session:\n",
        "        result = session.run(\"\"\"\n",
        "        MATCH (n1:Node)-[r:RELATED]->(n2:Node)\n",
        "        RETURN n1.id AS id_form, n2.id AS id_to, r.weight AS weight\n",
        "        \"\"\")\n",
        "        data = [record.data() for record in result]\n",
        "        tuples = [(d['id_form'], d['weight'], d['id_to']) for d in data]\n",
        "    return tuples\n",
        "\n",
        "# Obtiene los datos de Neo4j\n",
        "neo4j_data = get_data_from_neo4j()"
      ]
    },
    {
      "cell_type": "code",
      "execution_count": 35,
      "metadata": {
        "id": "dWtrIq75FS5z"
      },
      "outputs": [],
      "source": [
        "# Neo4j a RDD\n",
        "rdd = sc.parallelize(neo4j_data)"
      ]
    },
    {
      "cell_type": "code",
      "execution_count": 36,
      "metadata": {
        "colab": {
          "base_uri": "https://localhost:8080/"
        },
        "id": "-n_5GHpKG9nR",
        "outputId": "c03c196d-6900-4d3f-80d8-e51a70aafd11"
      },
      "outputs": [
        {
          "data": {
            "text/plain": [
              "[(1, 1, 2), (1, 7, 3), (4, 3, 5), (6, 5, 7), (6, 14137, 8)]"
            ]
          },
          "execution_count": 36,
          "metadata": {},
          "output_type": "execute_result"
        }
      ],
      "source": [
        "rdd.take(5)"
      ]
    },
    {
      "cell_type": "markdown",
      "metadata": {
        "id": "E53RkztzQ2DJ"
      },
      "source": [
        "Función para la busqueda de triángulos"
      ]
    },
    {
      "cell_type": "code",
      "execution_count": 37,
      "metadata": {
        "id": "iQVmmLnRgp_L"
      },
      "outputs": [],
      "source": [
        "# toma el rdd y un b para los buckets de la función de hash y\n",
        "# devuelve un diccionario con las claves originales y los triángulos detectados.\n",
        "def buscar_triangulos(rdd, b):\n",
        "    rdd_neo4j_map = rdd.flatMap(lambda dato: map_pdm(*dato, b))\n",
        "    reduce_neo4j = rdd_neo4j_map.groupByKey().mapValues(list)\n",
        "    trangulos = reduce_neo4j.map(lambda nodos: (nodos[0], triangulo(nodos[1])))\n",
        "\n",
        "    dicc = {}\n",
        "    for i in trangulos.collect():\n",
        "        dicc[i[0]] = i[1]\n",
        "\n",
        "    return dicc\n"
      ]
    },
    {
      "cell_type": "code",
      "execution_count": 38,
      "metadata": {
        "id": "X1MjqfOUAhl9"
      },
      "outputs": [],
      "source": [
        "#buckets\n",
        "B = 100"
      ]
    },
    {
      "cell_type": "code",
      "execution_count": 39,
      "metadata": {
        "id": "keUzH2RWrA38"
      },
      "outputs": [],
      "source": [
        "triangulos_detectados = buscar_triangulos(rdd, B)"
      ]
    },
    {
      "cell_type": "code",
      "execution_count": 40,
      "metadata": {
        "colab": {
          "base_uri": "https://localhost:8080/"
        },
        "id": "6doB8SKrAv9t",
        "outputId": "9c0f0c35-7d63-4978-aeec-2fa10baa25b5"
      },
      "outputs": [
        {
          "data": {
            "text/plain": [
              "[((27, 16, 26), [(216, 226, 227), (116, 827, 526)]),\n",
              " ((44, 75, 58), []),\n",
              " ((9, 15, 17), []),\n",
              " ((4, 24, 67), [(124, 167, 204), (124, 167, 104)]),\n",
              " ((66, 13, 72), [(72, 166, 113)])]"
            ]
          },
          "execution_count": 40,
          "metadata": {},
          "output_type": "execute_result"
        }
      ],
      "source": [
        "list(triangulos_detectados.items())[:5]"
      ]
    },
    {
      "cell_type": "markdown",
      "metadata": {
        "id": "_mGxAoIonPA6"
      },
      "source": [
        "## RDD como matriz.\n"
      ]
    },
    {
      "cell_type": "code",
      "execution_count": 41,
      "metadata": {
        "colab": {
          "base_uri": "https://localhost:8080/"
        },
        "id": "lfM7_wJ-UqpM",
        "outputId": "34eda950-2b18-4fb8-e485-5e3c86708d1a"
      },
      "outputs": [
        {
          "name": "stdout",
          "output_type": "stream",
          "text": [
            "Max nodo: 1574, cantidad de nodo: 1574\n",
            "Max arista: 1489618, cantidad de aristas: 9968\n"
          ]
        }
      ],
      "source": [
        "#buscamos el nodo de valor maximo\n",
        "\n",
        "max_nodo = rdd.map(lambda x: (x[0], x[2])).reduce(lambda a, b: (max(a[0], b[0]), max(a[1], b[1])))\n",
        "max_nodo = max(max_nodo[0], max_nodo[1])\n",
        "\n",
        "# Si comparamos el valor maximo con la cantidad de nodos, son iguales\n",
        "# debido a que van desde 1 hasta el nodo maximo\n",
        "\n",
        "cant_nodo = rdd.flatMap(lambda x: [x[0], x[2]]).distinct().count()\n",
        "\n",
        "print(f\"Max nodo: {max_nodo}, cantidad de nodo: {cant_nodo}\")\n",
        "\n",
        "# Por otro lado el maximo de una arista es bastante mayor a la cantidad de aristas\n",
        "# por lo tanto vamos a crear un diccionario que tome el valor de una arista\n",
        "# y entregue en que posición estaría si ordenamos las aristas de menor a mayor\n",
        "# así la matriz no ocupara tanta memoria.\n",
        "\n",
        "max_arista = rdd.map(lambda x: x[1]).reduce(lambda a, b: max(a, b))\n",
        "\n",
        "cant_aristas = rdd.map(lambda x: x[1]).distinct().count()\n",
        "\n",
        "print(f\"Max arista: {max_arista}, cantidad de aristas: {cant_aristas}\")\n",
        "\n",
        "aristas = rdd.map(lambda x: x[1]).distinct().sortBy(lambda x: x).collect()\n",
        "\n",
        "aristas_dict = {val: id + 1 for id, val in enumerate(aristas)}\n"
      ]
    },
    {
      "cell_type": "code",
      "execution_count": 42,
      "metadata": {
        "id": "m9FevbCQrbSD"
      },
      "outputs": [],
      "source": [
        "# Este diccionario nos ayuda a convertir índices de aristas de vuelta a identificadores de aristas originales\n",
        "# es decir para mapear posiciones de vuelta a valores de aristas\n",
        "inverse_aristas_dict = {v: k for k, v in aristas_dict.items()}"
      ]
    },
    {
      "cell_type": "code",
      "execution_count": 43,
      "metadata": {
        "id": "d1c9VdFeQOHx"
      },
      "outputs": [],
      "source": [
        "# Esta función recibe el RDD y un dict, en este caso será 'inverse_aristas_dict'\n",
        "# para entregar una matriz 3D M de dimensionalidad (max_nodo + 1, max_arista + 1, max_nodo + 1)\n",
        "def rdd_a_matriz(rdd, dicc):\n",
        "  max_nodo = rdd.map(lambda x: (x[0], x[2])).reduce(lambda a, b: (max(a[0], b[0]), max(a[1], b[1])))\n",
        "  max_nodo = max(max_nodo[0], max_nodo[1])\n",
        "\n",
        "  max_arista = rdd.map(lambda x: x[1]).reduce(lambda a, b: max(a, b))\n",
        "  max_arista = dicc[max_arista]\n",
        "  M = np.zeros((max_nodo + 1, max_arista + 1, max_nodo + 1), dtype=int)\n",
        "\n",
        "  # Creamos la matriz y le ingresamos los valores\n",
        "  for i in rdd.collect():\n",
        "    M[i[0]][dicc[i[1]]][i[2]] = 1\n",
        "\n",
        "  return M"
      ]
    },
    {
      "cell_type": "code",
      "execution_count": 44,
      "metadata": {
        "id": "6GHiW4_oR19i"
      },
      "outputs": [],
      "source": [
        "M = rdd_a_matriz(rdd, aristas_dict)"
      ]
    },
    {
      "cell_type": "code",
      "execution_count": 45,
      "metadata": {
        "id": "NVY88tuJSK3k"
      },
      "outputs": [],
      "source": [
        "# Esta función recibe una matriz 3D 'M' y un dict 'inverse_aristas_dict'\n",
        "# para poder retornar un RDD que contiene tuplas (nodo_origen, etiqueta_arista, nodo_destino) (el RDD original)\n",
        "def matriz_a_rdd(M, inverse_dict):\n",
        "  grafo = []\n",
        "\n",
        "  for nodo in range(len(M)):\n",
        "    for arista in range(len(M[nodo])):\n",
        "        for nodo_sig in range(len(M[nodo][arista])):\n",
        "            if M[nodo][arista][nodo_sig] == 1:\n",
        "                grafo.append((nodo, inverse_dict[arista], nodo_sig))\n",
        "\n",
        "  return sc.parallelize(grafo)"
      ]
    },
    {
      "cell_type": "code",
      "execution_count": 46,
      "metadata": {
        "colab": {
          "base_uri": "https://localhost:8080/"
        },
        "id": "-uyrNQW2WYtZ",
        "outputId": "cf2ce0be-a822-43d3-a839-c836de8d0f20"
      },
      "outputs": [
        {
          "data": {
            "text/plain": [
              "[(1, 1, 2), (1, 7, 3), (4, 3, 5), (6, 5, 7)]"
            ]
          },
          "execution_count": 46,
          "metadata": {},
          "output_type": "execute_result"
        }
      ],
      "source": [
        "new_rdd = sc.parallelize(rdd.take(4))\n",
        "\n",
        "M_test = rdd_a_matriz(new_rdd, aristas_dict)\n",
        "matriz_a_rdd(M_test, inverse_aristas_dict).collect()"
      ]
    },
    {
      "cell_type": "markdown",
      "metadata": {
        "id": "Pik55avOZISN"
      },
      "source": [
        "### Recibimos el patrón"
      ]
    },
    {
      "cell_type": "markdown",
      "metadata": {
        "id": "XrUjokYXZMxc"
      },
      "source": [
        "Si el patrón es tipo matriz, lo pasamos a grafo con la función `matriz_a_rdd()`, y si el patrón es tipo rdd lo trabajamos tal que así:"
      ]
    },
    {
      "cell_type": "code",
      "execution_count": 47,
      "metadata": {
        "id": "cTQKFHxgcnLD"
      },
      "outputs": [],
      "source": [
        "# Esta función resive el patrón (tipo lista) representa lo que se desea buscar en la matriz y 'invers_dict'\n",
        "# para retornar un booleano tal que si el patrón está presente en la matriz retorna True y\n",
        "# si alguna parte del patrón no está presente en la matriz retornara False.\n",
        "def patron_in_rdd(patron : list, invers_dict):\n",
        "  for nodo_1, arista, nodo_2 in patron:\n",
        "    if arista not in invers_dict:\n",
        "        return False\n",
        "\n",
        "    if M[nodo_1, invers_dict[arista], nodo_2] == 0:\n",
        "      return False\n",
        "\n",
        "  return True"
      ]
    },
    {
      "cell_type": "code",
      "execution_count": 48,
      "metadata": {
        "colab": {
          "base_uri": "https://localhost:8080/"
        },
        "id": "k1kLndiKhGlh",
        "outputId": "3f5bcbcb-27f0-4d00-96b4-be109acde486"
      },
      "outputs": [
        {
          "data": {
            "text/plain": [
              "True"
            ]
          },
          "execution_count": 48,
          "metadata": {},
          "output_type": "execute_result"
        }
      ],
      "source": [
        "patron_in_rdd(rdd.take(4), inverse_aristas_dict)"
      ]
    },
    {
      "cell_type": "code",
      "execution_count": 49,
      "metadata": {
        "colab": {
          "base_uri": "https://localhost:8080/"
        },
        "id": "6v8BNSynirUX",
        "outputId": "4536b000-8ee5-424d-8b32-468b99881ad0"
      },
      "outputs": [
        {
          "data": {
            "text/plain": [
              "False"
            ]
          },
          "execution_count": 49,
          "metadata": {},
          "output_type": "execute_result"
        }
      ],
      "source": [
        "patron_in_rdd([(1, 7842654, 3)], inverse_aristas_dict)"
      ]
    },
    {
      "cell_type": "code",
      "execution_count": 50,
      "metadata": {
        "id": "rgnJhWoLoVFJ"
      },
      "outputs": [],
      "source": [
        "# Esta función recibe una lista de nodos para poder retornar\n",
        "# True si hay al menos una arista que conecta todos los nodos consecutivos en la lista.\n",
        "# de lo contrario False\n",
        "def variables(nodos):\n",
        "  for i in range(len(nodos) - 1):\n",
        "        nodo_actual = nodos[i]\n",
        "        nodo_siguiente = nodos[i + 1]\n",
        "\n",
        "        if not np.any(M[nodo_actual, :, nodo_siguiente]):\n",
        "            return False\n",
        "\n",
        "        return True"
      ]
    },
    {
      "cell_type": "code",
      "execution_count": 51,
      "metadata": {
        "colab": {
          "base_uri": "https://localhost:8080/"
        },
        "id": "nmDe5lRMqOYH",
        "outputId": "f73c4eb8-67c6-43e5-d54b-090cfe589589"
      },
      "outputs": [
        {
          "data": {
            "text/plain": [
              "False"
            ]
          },
          "execution_count": 51,
          "metadata": {},
          "output_type": "execute_result"
        }
      ],
      "source": [
        "variables((5, 54, 56, 98))"
      ]
    },
    {
      "cell_type": "markdown",
      "metadata": {},
      "source": [
        "Probamos en tuplas con valores random para probar el codigo."
      ]
    },
    {
      "cell_type": "code",
      "execution_count": null,
      "metadata": {
        "id": "56lRsGPUq7Dn"
      },
      "outputs": [],
      "source": [
        "rango_numeros = range(1, 1575)\n",
        "while True:\n",
        "    numeros_azar = np.random.choice(rango_numeros, size=4, replace=False)\n",
        "\n",
        "    if variables(tuple(numeros_azar)):\n",
        "        print(\"Se encontró una secuencia con camino en el grafo:\")\n",
        "        print(numeros_azar)\n",
        "        break"
      ]
    },
    {
      "cell_type": "code",
      "execution_count": null,
      "metadata": {
        "id": "tWvs-_fCEqLi"
      },
      "outputs": [],
      "source": [
        "driver.close()"
      ]
    }
  ],
  "metadata": {
    "colab": {
      "provenance": []
    },
    "kernelspec": {
      "display_name": "Python 3",
      "language": "python",
      "name": "python3"
    },
    "language_info": {
      "codemirror_mode": {
        "name": "ipython",
        "version": 3
      },
      "file_extension": ".py",
      "mimetype": "text/x-python",
      "name": "python",
      "nbconvert_exporter": "python",
      "pygments_lexer": "ipython3",
      "version": "3.11.9"
    }
  },
  "nbformat": 4,
  "nbformat_minor": 0
}
